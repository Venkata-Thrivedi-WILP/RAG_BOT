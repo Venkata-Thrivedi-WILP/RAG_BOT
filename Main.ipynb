{
 "cells": [
  {
   "cell_type": "code",
   "execution_count": 4,
   "id": "45af8779",
   "metadata": {},
   "outputs": [
    {
     "name": "stdout",
     "output_type": "stream",
     "text": [
      "Requirement already satisfied: langchain in /home/codespace/.python/current/lib/python3.12/site-packages (0.3.25)\n",
      "Requirement already satisfied: langchain_community in /home/codespace/.python/current/lib/python3.12/site-packages (0.3.24)\n",
      "Requirement already satisfied: langchain_ollama in /home/codespace/.python/current/lib/python3.12/site-packages (0.3.3)\n",
      "Requirement already satisfied: langchain_text_splitters in /home/codespace/.python/current/lib/python3.12/site-packages (0.3.8)\n",
      "Requirement already satisfied: langchain-core<1.0.0,>=0.3.58 in /home/codespace/.python/current/lib/python3.12/site-packages (from langchain) (0.3.64)\n",
      "Requirement already satisfied: langsmith<0.4,>=0.1.17 in /home/codespace/.python/current/lib/python3.12/site-packages (from langchain) (0.3.45)\n",
      "Requirement already satisfied: pydantic<3.0.0,>=2.7.4 in /home/codespace/.python/current/lib/python3.12/site-packages (from langchain) (2.11.5)\n",
      "Requirement already satisfied: SQLAlchemy<3,>=1.4 in /home/codespace/.python/current/lib/python3.12/site-packages (from langchain) (2.0.41)\n",
      "Requirement already satisfied: requests<3,>=2 in /home/codespace/.local/lib/python3.12/site-packages (from langchain) (2.32.3)\n",
      "Requirement already satisfied: PyYAML>=5.3 in /home/codespace/.local/lib/python3.12/site-packages (from langchain) (6.0.2)\n",
      "Requirement already satisfied: aiohttp<4.0.0,>=3.8.3 in /home/codespace/.python/current/lib/python3.12/site-packages (from langchain_community) (3.12.9)\n",
      "Requirement already satisfied: tenacity!=8.4.0,<10,>=8.1.0 in /home/codespace/.python/current/lib/python3.12/site-packages (from langchain_community) (9.1.2)\n",
      "Requirement already satisfied: dataclasses-json<0.7,>=0.5.7 in /home/codespace/.python/current/lib/python3.12/site-packages (from langchain_community) (0.6.7)\n",
      "Requirement already satisfied: pydantic-settings<3.0.0,>=2.4.0 in /home/codespace/.python/current/lib/python3.12/site-packages (from langchain_community) (2.9.1)\n",
      "Requirement already satisfied: httpx-sse<1.0.0,>=0.4.0 in /home/codespace/.python/current/lib/python3.12/site-packages (from langchain_community) (0.4.0)\n",
      "Requirement already satisfied: numpy>=1.26.2 in /home/codespace/.local/lib/python3.12/site-packages (from langchain_community) (2.2.4)\n",
      "Requirement already satisfied: ollama<1.0.0,>=0.4.8 in /home/codespace/.python/current/lib/python3.12/site-packages (from langchain_ollama) (0.5.1)\n",
      "Requirement already satisfied: aiohappyeyeballs>=2.5.0 in /home/codespace/.python/current/lib/python3.12/site-packages (from aiohttp<4.0.0,>=3.8.3->langchain_community) (2.6.1)\n",
      "Requirement already satisfied: aiosignal>=1.1.2 in /home/codespace/.python/current/lib/python3.12/site-packages (from aiohttp<4.0.0,>=3.8.3->langchain_community) (1.3.2)\n",
      "Requirement already satisfied: attrs>=17.3.0 in /home/codespace/.local/lib/python3.12/site-packages (from aiohttp<4.0.0,>=3.8.3->langchain_community) (25.3.0)\n",
      "Requirement already satisfied: frozenlist>=1.1.1 in /home/codespace/.python/current/lib/python3.12/site-packages (from aiohttp<4.0.0,>=3.8.3->langchain_community) (1.6.2)\n",
      "Requirement already satisfied: multidict<7.0,>=4.5 in /home/codespace/.python/current/lib/python3.12/site-packages (from aiohttp<4.0.0,>=3.8.3->langchain_community) (6.4.4)\n",
      "Requirement already satisfied: propcache>=0.2.0 in /home/codespace/.python/current/lib/python3.12/site-packages (from aiohttp<4.0.0,>=3.8.3->langchain_community) (0.3.1)\n",
      "Requirement already satisfied: yarl<2.0,>=1.17.0 in /home/codespace/.python/current/lib/python3.12/site-packages (from aiohttp<4.0.0,>=3.8.3->langchain_community) (1.20.0)\n",
      "Requirement already satisfied: marshmallow<4.0.0,>=3.18.0 in /home/codespace/.python/current/lib/python3.12/site-packages (from dataclasses-json<0.7,>=0.5.7->langchain_community) (3.26.1)\n",
      "Requirement already satisfied: typing-inspect<1,>=0.4.0 in /home/codespace/.python/current/lib/python3.12/site-packages (from dataclasses-json<0.7,>=0.5.7->langchain_community) (0.9.0)\n",
      "Requirement already satisfied: jsonpatch<2.0,>=1.33 in /home/codespace/.python/current/lib/python3.12/site-packages (from langchain-core<1.0.0,>=0.3.58->langchain) (1.33)\n",
      "Requirement already satisfied: packaging<25,>=23.2 in /home/codespace/.local/lib/python3.12/site-packages (from langchain-core<1.0.0,>=0.3.58->langchain) (24.2)\n",
      "Requirement already satisfied: typing-extensions>=4.7 in /home/codespace/.local/lib/python3.12/site-packages (from langchain-core<1.0.0,>=0.3.58->langchain) (4.12.2)\n",
      "Requirement already satisfied: httpx<1,>=0.23.0 in /home/codespace/.local/lib/python3.12/site-packages (from langsmith<0.4,>=0.1.17->langchain) (0.28.1)\n",
      "Requirement already satisfied: orjson<4.0.0,>=3.9.14 in /home/codespace/.python/current/lib/python3.12/site-packages (from langsmith<0.4,>=0.1.17->langchain) (3.10.18)\n",
      "Requirement already satisfied: requests-toolbelt<2.0.0,>=1.0.0 in /home/codespace/.python/current/lib/python3.12/site-packages (from langsmith<0.4,>=0.1.17->langchain) (1.0.0)\n",
      "Requirement already satisfied: zstandard<0.24.0,>=0.23.0 in /home/codespace/.python/current/lib/python3.12/site-packages (from langsmith<0.4,>=0.1.17->langchain) (0.23.0)\n",
      "Requirement already satisfied: annotated-types>=0.6.0 in /home/codespace/.python/current/lib/python3.12/site-packages (from pydantic<3.0.0,>=2.7.4->langchain) (0.7.0)\n",
      "Requirement already satisfied: pydantic-core==2.33.2 in /home/codespace/.python/current/lib/python3.12/site-packages (from pydantic<3.0.0,>=2.7.4->langchain) (2.33.2)\n",
      "Requirement already satisfied: typing-inspection>=0.4.0 in /home/codespace/.python/current/lib/python3.12/site-packages (from pydantic<3.0.0,>=2.7.4->langchain) (0.4.1)\n",
      "Requirement already satisfied: python-dotenv>=0.21.0 in /home/codespace/.python/current/lib/python3.12/site-packages (from pydantic-settings<3.0.0,>=2.4.0->langchain_community) (1.1.0)\n",
      "Requirement already satisfied: charset-normalizer<4,>=2 in /home/codespace/.local/lib/python3.12/site-packages (from requests<3,>=2->langchain) (3.4.1)\n",
      "Requirement already satisfied: idna<4,>=2.5 in /home/codespace/.local/lib/python3.12/site-packages (from requests<3,>=2->langchain) (3.10)\n",
      "Requirement already satisfied: urllib3<3,>=1.21.1 in /home/codespace/.local/lib/python3.12/site-packages (from requests<3,>=2->langchain) (2.3.0)\n",
      "Requirement already satisfied: certifi>=2017.4.17 in /home/codespace/.local/lib/python3.12/site-packages (from requests<3,>=2->langchain) (2025.1.31)\n",
      "Requirement already satisfied: greenlet>=1 in /home/codespace/.python/current/lib/python3.12/site-packages (from SQLAlchemy<3,>=1.4->langchain) (3.2.3)\n",
      "Requirement already satisfied: anyio in /home/codespace/.local/lib/python3.12/site-packages (from httpx<1,>=0.23.0->langsmith<0.4,>=0.1.17->langchain) (4.9.0)\n",
      "Requirement already satisfied: httpcore==1.* in /home/codespace/.local/lib/python3.12/site-packages (from httpx<1,>=0.23.0->langsmith<0.4,>=0.1.17->langchain) (1.0.7)\n",
      "Requirement already satisfied: h11<0.15,>=0.13 in /home/codespace/.local/lib/python3.12/site-packages (from httpcore==1.*->httpx<1,>=0.23.0->langsmith<0.4,>=0.1.17->langchain) (0.14.0)\n",
      "Requirement already satisfied: jsonpointer>=1.9 in /home/codespace/.local/lib/python3.12/site-packages (from jsonpatch<2.0,>=1.33->langchain-core<1.0.0,>=0.3.58->langchain) (3.0.0)\n",
      "Requirement already satisfied: mypy-extensions>=0.3.0 in /home/codespace/.python/current/lib/python3.12/site-packages (from typing-inspect<1,>=0.4.0->dataclasses-json<0.7,>=0.5.7->langchain_community) (1.1.0)\n",
      "Requirement already satisfied: sniffio>=1.1 in /home/codespace/.local/lib/python3.12/site-packages (from anyio->httpx<1,>=0.23.0->langsmith<0.4,>=0.1.17->langchain) (1.3.1)\n",
      "\n",
      "\u001b[1m[\u001b[0m\u001b[34;49mnotice\u001b[0m\u001b[1;39;49m]\u001b[0m\u001b[39;49m A new release of pip is available: \u001b[0m\u001b[31;49m25.0.1\u001b[0m\u001b[39;49m -> \u001b[0m\u001b[32;49m25.1.1\u001b[0m\n",
      "\u001b[1m[\u001b[0m\u001b[34;49mnotice\u001b[0m\u001b[1;39;49m]\u001b[0m\u001b[39;49m To update, run: \u001b[0m\u001b[32;49mpip install --upgrade pip\u001b[0m\n",
      "Note: you may need to restart the kernel to use updated packages.\n"
     ]
    }
   ],
   "source": [
    "%pip install langchain langchain_community langchain_ollama langchain_text_splitters"
   ]
  },
  {
   "cell_type": "code",
   "execution_count": 22,
   "id": "c5b584bf",
   "metadata": {},
   "outputs": [
    {
     "name": "stdout",
     "output_type": "stream",
     "text": [
      "Number of documents loaded: 1\n",
      "Documents loaded:\n",
      "[Document(metadata={'source': '/workspaces/RAG_BOT/processed_data/PolicyMangement.txt'}, page_content='ENDPOINT: Delete authentication profile\\nPATH: /AuthProfile/DeleteProfile\\nMETHOD: POST\\nTAGS: Authentication Profile\\nMETADATA:\\n  * x-idap-anon: False\\n  * x-codegen-request-body-name: payload\\nPARAMETERS:\\n  * uuid (query, Required): Authentication UUID.\\nREQUEST BODY: Required\\n  Content Type: application/json\\n  Schema Properties:\\n    * uuid (string): The authentication profile uuid either passed in by method call or as part of the payload.\\n    Required fields: uuid\\n  Sample Request JSON:\\n  ```json\\n  {\\n  \"uuid\": \"string_value\"\\n}\\n  ```\\nRESPONSES:\\n  Status Code: 200\\n  Description: API-Result\\n  Content Type: */*\\n  Response Schema: AuthProfileDeleteProfile\\n  Response Body Properties:\\n    * Result (boolean): Success or failure of the delete\\n    * Error (object): Error message text on failure, may be null\\n  Sample Response JSON:\\n  ```json\\n  {\\n  \"Result\": false,\\n  \"Error\": {}\\n}\\n  ```\\nSECURITY: bearerAuth\\n--------------------------------------------------------------------------------\\nENDPOINT: Get authentication profile\\nPATH: /AuthProfile/GetProfile\\nMETHOD: POST\\nTAGS: Authentication Profile\\nDESCRIPTION: The profile get uses the uuid passed in by method call or as part of the payload.\\nMETADATA:\\n  * x-idap-anon: False\\n  * x-codegen-request-body-name: payload\\nPARAMETERS:\\n  * uuid (query, Required): Profile UUID\\nREQUEST BODY: Required\\n  Content Type: application/json\\n  Schema Properties:\\n    * uuid (string): The authentication profile uuid either passed in by method call or as part of the payload.\\n    Required fields: uuid\\n  Sample Request JSON:\\n  ```json\\n  {\\n  \"uuid\": \"string_value\"\\n}\\n  ```\\nRESPONSES:\\n  Status Code: 200\\n  Description: API-Result\\n  Content Type: */*\\n  Response Schema: AuthProfileGetProfile\\n  Response Body Properties:\\n    * Result (object): Authentication profile.\\n      Nested properties:\\n        * Challenges (array): Selected authentication mechanisms.\\n          Array items:\\n        * AdditionalData (object): DataEntity with additional data (default=null).\\n        * Uuid (string): Profile UUID.\\n        * SingleChallengeMechanisms (string): Selected single authentication mechanisms.\\n        * DurationInMinutes (integer): How many minutes the profile is valid.\\n        * Name (string): Profile name.\\n    * Error (object): Error message text on failure, may be null\\n  Sample Response JSON:\\n  ```json\\n  {\\n  \"Result\": {\\n    \"Challenges\": [\\n      \"string_value\"\\n    ],\\n    \"AdditionalData\": {},\\n    \"Uuid\": \"string_value\",\\n    \"SingleChallengeMechanisms\": \"string_value\",\\n    \"DurationInMinutes\": 0,\\n    \"Name\": \"string_value\"\\n  },\\n  \"Error\": {}\\n}\\n  ```\\nSECURITY: bearerAuth\\n--------------------------------------------------------------------------------\\nENDPOINT: Set authentication profile\\nPATH: /AuthProfile/SaveProfile\\nMETHOD: POST\\nTAGS: Authentication Profile\\nDESCRIPTION: If the profile contains a UUID an update is performed, otherwise it\\'s a write.\\nMETADATA:\\n  * x-idap-anon: False\\n  * x-codegen-request-body-name: payload\\nREQUEST BODY: Required\\n  Content Type: application/json\\n  Schema Properties:\\n    * settings (object): The authentication profile.\\n      Nested properties:\\n        * Challenges (array): Selected authentication mechanisms.\\n          Array items:\\n        * AdditionalData (object): DataEntity with additional data (default=null).\\n        * Uuid (string): Profile UUID.\\n        * SingleChallengeMechanisms (string): Selected single authentication mechanisms.\\n        * DurationInMinutes (integer): How many minutes the profile is valid.\\n        * Name (string): Profile name.\\n    Required fields: settings\\n  Sample Request JSON:\\n  ```json\\n  {\\n  \"settings\": {\\n    \"Challenges\": [\\n      \"string_value\"\\n    ],\\n    \"AdditionalData\": {},\\n    \"Uuid\": \"string_value\",\\n    \"SingleChallengeMechanisms\": \"string_value\",\\n    \"DurationInMinutes\": 0,\\n    \"Name\": \"string_value\"\\n  }\\n}\\n  ```\\nRESPONSES:\\n  Status Code: 200\\n  Description: API-Result\\n  Content Type: */*\\n  Response Schema: AuthProfileSaveProfile\\n  Response Body Properties:\\n    * Result (object): An authentication profile.\\n      Nested properties:\\n        * Challenges (array): Selected authentication mechanisms.\\n          Array items:\\n        * AdditionalData (object): DataEntity with additional data (default=null).\\n        * Uuid (string): Profile UUID.\\n        * SingleChallengeMechanisms (string): Selected single authentication mechanisms.\\n        * DurationInMinutes (integer): How many minutes the profile is valid.\\n        * Name (string): Profile name.\\n    * Error (object): Error message text on failure, may be null\\n  Sample Response JSON:\\n  ```json\\n  {\\n  \"Result\": {\\n    \"Challenges\": [\\n      \"string_value\"\\n    ],\\n    \"AdditionalData\": {},\\n    \"Uuid\": \"string_value\",\\n    \"SingleChallengeMechanisms\": \"string_value\",\\n    \"DurationInMinutes\": 0,\\n    \"Name\": \"string_value\"\\n  },\\n  \"Error\": {}\\n}\\n  ```\\nSECURITY: bearerAuth\\n--------------------------------------------------------------------------------\\nENDPOINT: Delete policy\\nPATH: /Policy/DeletePolicyBlock\\nMETHOD: POST\\nTAGS: Policy Management\\nMETADATA:\\n  * x-idap-anon: False\\n  * x-codegen-request-body-name: payload\\nREQUEST BODY: Required\\n  Content Type: application/json\\n  Schema Properties:\\n    * path (string): The policy block to delete.\\n    Required fields: path\\n  Sample Request JSON:\\n  ```json\\n  {\\n  \"path\": \"string_value\"\\n}\\n  ```\\nRESPONSES:\\n  Status Code: 200\\n  Description: API-Result\\n  Content Type: */*\\n  Response Schema: PolicyDeletePolicyBlock\\n  Response Body Properties:\\n    * Result (boolean): Did the policy block delete succeed.\\n    * Error (object): Error message text on failure, may be null\\n  Sample Response JSON:\\n  ```json\\n  {\\n  \"Result\": false,\\n  \"Error\": {}\\n}\\n  ```\\nSECURITY: bearerAuth\\n--------------------------------------------------------------------------------\\nENDPOINT: Gets policy links.\\nPATH: /Policy/GetNicePlinks\\nMETHOD: POST\\nTAGS: Policy Management\\nDESCRIPTION: RevStamp is required for both requesting and setting policy links. Return is a dictionary(plink name, plink fields as below) with RevStamp as the last entry.\\nMETADATA:\\n  * x-idap-anon: False\\nRESPONSES:\\n  Status Code: 200\\n  Description: API-Result\\n  Content Type: */*\\n  Response Schema: PolicyGetNicePlinks\\n  Response Body Properties:\\n    * Result (array): The list of policy links in UI Query Response format.\\n      Array items:\\n        * Description (string): The policy link description.\\n        * I18NDescriptionTag (string): Localized version of the description.\\n        * PolicySet (string): The policy link policy set.\\n        * LinkType (string): The policy link type.\\n        * Params (array): The policy link parameters.\\n          Array items:\\n        * Filters (array): The policy link filters.\\n          Array items:\\n        * AllowedPolicies (array): The policy link allowed policies.\\n          Array items:\\n        * EnableCompliant (boolean): The policy link enable compliant.\\n    * Error (object): Error message text on failure, may be null\\n  Sample Response JSON:\\n  ```json\\n  {\\n  \"Result\": [\\n    {\\n      \"Description\": \"string_value\",\\n      \"I18NDescriptionTag\": \"string_value\",\\n      \"PolicySet\": \"string_value\",\\n      \"LinkType\": \"string_value\",\\n      \"Params\": [\\n        \"string_value\"\\n      ],\\n      \"Filters\": [\\n        \"string_value\"\\n      ],\\n      \"AllowedPolicies\": [\\n        \"string_value\"\\n      ],\\n      \"EnableCompliant\": false\\n    }\\n  ],\\n  \"Error\": {}\\n}\\n  ```\\nSECURITY: bearerAuth\\n--------------------------------------------------------------------------------\\nENDPOINT: Get password complexity requirements\\nPATH: /Policy/GetPasswordComplexityRequirements\\nMETHOD: POST\\nTAGS: Policy Management\\nMETADATA:\\n  * x-idap-anon: False\\nPARAMETERS:\\n  * uuidOrName (query, Required): User\\'s unique identifier or name to use when retrieving password complexity requirements.\\nRESPONSES:\\n  Status Code: 200\\n  Description: API-Result\\n  Content Type: */*\\n  Response Schema: PolicyGetPasswordComplexityRequirements\\n  Response Body Properties:\\n    * Result (string): The password complexity requirements for the user.\\n    * Error (object): { description: \"The password complexity requirements for the user.\", type: \"string\" }\\n  Sample Response JSON:\\n  ```json\\n  {\\n  \"Result\": \"string_value\",\\n  \"Error\": {}\\n}\\n  ```\\nSECURITY: bearerAuth\\n--------------------------------------------------------------------------------\\nENDPOINT: Gets authentication assurance level\\nPATH: /AuthProfile/GetProfileMFAScoring\\nMETHOD: POST\\nTAGS: Authentication Profile\\nMETADATA:\\n  * x-idap-anon: False\\nPARAMETERS:\\n  * challenges (query, Required): Profile factors\\nRESPONSES:\\n  Status Code: 200\\n  Description: API-Result\\n  Content Type: */*\\n  Response Schema: AuthProfileGetProfileMFAScoring\\n  Response Body Properties:\\n    * Result (object): returns Maximum and minimun AAL in Success or null in Failure\\n    * Error (object): Error message text on failure, may be null\\n  Sample Response JSON:\\n  ```json\\n  {\\n  \"Result\": {},\\n  \"Error\": {}\\n}\\n  ```\\nSECURITY: bearerAuth\\n--------------------------------------------------------------------------------\\nENDPOINT: Get policy block\\nPATH: /Policy/GetPolicyBlock\\nMETHOD: POST\\nTAGS: Policy Management\\nMETADATA:\\n  * x-idap-anon: False\\nPARAMETERS:\\n  * name (query, Required): The policy block to get.\\nRESPONSES:\\n  Status Code: 200\\n  Description: API-Result\\n  Content Type: */*\\n  Response Schema: PolicyGetPolicyBlock\\n  Response Body Properties:\\n    * Result (object): The policy block.\\n      Nested properties:\\n        * RiskAnalysisLevels (object): The risk analysis mapping.\\n        * AuthProfiles (array): A list of authentication profiles.\\n          Array items:\\n        * PolicyModifiers (array): The policy modifiers.\\n          Array items:\\n        * RevStamp (string): The policy revision stamp.\\n        * RadiusClientList (array): The list of radius clients.\\n          Array items:\\n    * Error (object): { description: \"The policy block.\", type: \"object\", properties: { AuthProfiles: { description: \"A list of authentication profiles.\", type: \"array\", items: { type: \"object\" } }, RiskAnalysisLevels: { description: \"The risk analysis mapping.\", type: \"object\" }, PolicyModifiers: { description: \"The policy modifiers.\", type: \"array\", items: { type: \"string\" } }, RevStamp: { description: \"The policy revision stamp.\", type: \"string\" }, RadiusClientList: { description: \"The list of radius clients.\", type: \"array\", items: { type: \"object\" } } } }\\n  Sample Response JSON:\\n  ```json\\n  {\\n  \"Result\": {\\n    \"RiskAnalysisLevels\": {},\\n    \"AuthProfiles\": [\\n      {}\\n    ],\\n    \"PolicyModifiers\": [\\n      \"string_value\"\\n    ],\\n    \"RevStamp\": \"string_value\",\\n    \"RadiusClientList\": [\\n      {}\\n    ]\\n  },\\n  \"Error\": {}\\n}\\n  ```\\nSECURITY: bearerAuth\\n--------------------------------------------------------------------------------\\nENDPOINT: Set policy\\nPATH: /Policy/SavePolicyBlock3\\nMETHOD: POST\\nTAGS: Policy Management\\nDESCRIPTION: Replaces and deprecates SavePolicyBlock2, by adding the \"rev stamp\" functionality that helps prevent change loss when policies are being edited by multiple users.\\nMETADATA:\\n  * x-idap-anon: False\\n  * x-codegen-request-body-name: payload\\nREQUEST BODY: Required\\n  Content Type: application/json\\n  Schema Properties:\\n    * policy (object): JSON object containing the details of the policy being added or updated.\\n      Nested properties:\\n        * Newpolicy (boolean): boolean set to true if this is a new policy (add)\\n        * Version (integer): Policy structure version number. 1, at this time.\\n        * Path (string): path of the policy\\n        * RevStamp (string): Revision stamp returned from latest call to getPolicyBlock. This is required if Newpolicy is false.\\n        * Description (string): policy description\\n    * plinks (array): Array of plink objects representing the current plinks file.\\n      Array items:\\n    Required fields: policy, plinks\\n  Sample Request JSON:\\n  ```json\\n  {\\n  \"policy\": {\\n    \"Newpolicy\": false,\\n    \"Version\": 0,\\n    \"Path\": \"string_value\",\\n    \"RevStamp\": \"string_value\",\\n    \"Description\": \"string_value\"\\n  },\\n  \"plinks\": [\\n    {}\\n  ]\\n}\\n  ```\\nRESPONSES:\\n  Status Code: 200\\n  Description: API-Result\\n  Content Type: */*\\n  Response Schema: PolicySavePolicyBlock3\\n  Response Body Properties:\\n    * Result (object): Standard JSON response, with error information on failure.\\n    * Error (object): Error message text on failure, may be null\\n  Sample Response JSON:\\n  ```json\\n  {\\n  \"Result\": {},\\n  \"Error\": {}\\n}\\n  ```\\nSECURITY: bearerAuth\\n--------------------------------------------------------------------------------')]\n"
     ]
    }
   ],
   "source": [
    "from langchain_community.document_loaders import DirectoryLoader\n",
    "from langchain_community.document_loaders import TextLoader\n",
    "\n",
    "# Load all text files from the processed_data directory\n",
    "folder_path = \"/workspaces/RAG_BOT/processed_data\"\n",
    "document_loader = DirectoryLoader(folder_path, glob=\"**/*.txt\", loader_cls=TextLoader)\n",
    "raw_documents = document_loader.load()\n",
    "\n",
    "print(f\"Number of documents loaded: {len(raw_documents)}\")\n",
    "print(\"Documents loaded:\")\n",
    "print(raw_documents)"
   ]
  },
  {
   "cell_type": "code",
   "execution_count": 23,
   "id": "ac5ffb16",
   "metadata": {},
   "outputs": [
    {
     "name": "stdout",
     "output_type": "stream",
     "text": [
      "Total split chunks: 9\n"
     ]
    }
   ],
   "source": [
    "import re\n",
    "from langchain_core.documents import Document\n",
    "\n",
    "# Split each raw document based on dashed line and create sub-documents\n",
    "split_documents = []\n",
    "for doc in raw_documents:\n",
    "    # Use regex to split based on dashed lines like '-----...'\n",
    "    parts = re.split(r'-{5,}', doc.page_content)\n",
    "    for i, part in enumerate(parts):\n",
    "        cleaned_part = part.strip()\n",
    "        if cleaned_part:\n",
    "            split_documents.append(\n",
    "                Document(\n",
    "                    page_content=cleaned_part,\n",
    "                    metadata={\"source\": doc.metadata[\"source\"], \"part\": i + 1}\n",
    "                )\n",
    "            )\n",
    "\n",
    "print(f\"Total split chunks: {len(split_documents)}\")"
   ]
  },
  {
   "cell_type": "code",
   "execution_count": 29,
   "id": "ddaaeb17",
   "metadata": {},
   "outputs": [
    {
     "name": "stdout",
     "output_type": "stream",
     "text": [
      "LangChain is an open-source project that aims to provide a robust, scalable, and flexible framework for building blockchain-based data pipelines. It allows developers to easily integrate blockchain technology with traditional data processing workflows, making it easier to build decentralized applications (dApps) and decentralized finance (DeFi) platforms.\n",
      "\n",
      "The core idea behind LangChain is to create a standardized interface for interacting with blockchains, allowing developers to focus on building their application's logic without worrying about the underlying blockchain infrastructure. This makes it easier to develop complex data pipelines that can handle large amounts of data and perform tasks such as data processing, machine learning, and analytics.\n",
      "\n",
      "LangChain provides a set of APIs and tools that enable developers to:\n",
      "\n",
      "1. Interact with blockchains (e.g., Ethereum, Polkadot) using a standardized interface.\n",
      "2. Build and manage decentralized data pipelines that can handle large amounts of data.\n",
      "3. Integrate blockchain-based data with traditional data processing workflows.\n",
      "\n",
      "The LangChain framework is designed to be extensible and modular, allowing developers to add new features and integrations as needed. It also provides a range of benefits, including:\n",
      "\n",
      "1. Increased scalability and performance\n",
      "2. Improved security and decentralization\n",
      "3. Simplified development and maintenance\n",
      "\n",
      "LangChain has gained significant attention in the blockchain development community due to its potential to enable more efficient and scalable data processing on blockchains.\n"
     ]
    }
   ],
   "source": [
    "from langchain_ollama import OllamaLLM\n",
    "\n",
    "llm = OllamaLLM(model=\"llama3.2:latest\")\n",
    "\n",
    "# Example usage\n",
    "response = llm.invoke(\"What is LangChain?\")\n",
    "print(response)"
   ]
  },
  {
   "cell_type": "markdown",
   "id": "5128fdd7",
   "metadata": {},
   "source": [
    "# Ollama Embedding"
   ]
  },
  {
   "cell_type": "code",
   "execution_count": 30,
   "id": "817d67d6",
   "metadata": {},
   "outputs": [],
   "source": [
    "from langchain_ollama import OllamaEmbeddings\n",
    "\n",
    "embedding_model = OllamaEmbeddings(\n",
    "    model=\"llama3.2:latest\",\n",
    "    # model=\"nomic-embed-text:latest\",\n",
    "    base_url=\"http://localhost:11434\"  # Ensure Ollama is running locally\n",
    ")"
   ]
  },
  {
   "cell_type": "code",
   "execution_count": null,
   "id": "7d3ef805",
   "metadata": {},
   "outputs": [],
   "source": [
    "from langchain_core.vectorstores import InMemoryVectorStore\n",
    "from langchain.schema import Document\n",
    "\n",
    "# Convert chunks to LangChain Documents\n",
    "documents = [Document(page_content=chunk.page_content) for chunk in split_documents]\n",
    "\n",
    "# Create an in-memory vector store\n",
    "vector_store_ollama = InMemoryVectorStore.from_documents(documents, embedding_model)\n",
    "\n",
    "print(\"Number of documents in vector store:\", len(vector_store_ollama.store))"
   ]
  },
  {
   "cell_type": "code",
   "execution_count": null,
   "id": "76ae71b4",
   "metadata": {},
   "outputs": [],
   "source": [
    "# Define a query\n",
    "query = \"how to get a policy?\"\n",
    "\n",
    "# Search for similar chunks and get scores\n",
    "similar_docs_with_scores = vector_store_ollama.similarity_search_with_score(query, k=3)\n",
    "\n",
    "print(\"Most similar documents:\")\n",
    "# Iterate through the results, which are tuples of (Document, score)\n",
    "for i, (doc, score) in enumerate(similar_docs_with_scores, start=1):\n",
    "    print(f\"Result {i} (Score: {score}):\")\n",
    "    print(doc.page_content)  # Print first 200 characters\n",
    "    print(\"-\" * 50)"
   ]
  },
  {
   "cell_type": "markdown",
   "id": "4644c0ee",
   "metadata": {},
   "source": [
    "# Nomic Embedding"
   ]
  },
  {
   "cell_type": "code",
   "execution_count": null,
   "id": "f3ce9f51",
   "metadata": {},
   "outputs": [],
   "source": [
    "from langchain_ollama import OllamaEmbeddings\n",
    "\n",
    "embedding_model_nomic = OllamaEmbeddings(\n",
    "    # model=\"llama3.2:latest\",\n",
    "    model=\"nomic-embed-text:latest\",\n",
    "    base_url=\"http://localhost:11434\"  # Ensure Ollama is running locally\n",
    ")"
   ]
  },
  {
   "cell_type": "code",
   "execution_count": null,
   "id": "0d944f9e",
   "metadata": {},
   "outputs": [],
   "source": [
    "from langchain_core.vectorstores import InMemoryVectorStore\n",
    "from langchain.schema import Document\n",
    "\n",
    "# Convert chunks to LangChain Documents\n",
    "documents = [Document(page_content=chunk.page_content) for chunk in split_documents]\n",
    "\n",
    "# Create an in-memory vector store\n",
    "vector_store_nomic = InMemoryVectorStore.from_documents(documents, embedding_model_nomic)\n",
    "\n",
    "print(\"Number of documents in vector store:\", len(vector_store_nomic.store))"
   ]
  },
  {
   "cell_type": "code",
   "execution_count": null,
   "id": "06503143",
   "metadata": {},
   "outputs": [],
   "source": [
    "# Define a query\n",
    "query = \"how to get a policy?\"\n",
    "\n",
    "# Search for similar chunks and get scores\n",
    "similar_docs_with_scores = vector_store_nomic.similarity_search_with_score(query, k=3)\n",
    "\n",
    "print(\"Most similar documents:\")\n",
    "# Iterate through the results, which are tuples of (Document, score)\n",
    "for i, (doc, score) in enumerate(similar_docs_with_scores, start=1):\n",
    "    print(f\"Result {i} (Score: {score}):\")\n",
    "    print(doc.page_content)  # Print first 200 characters\n",
    "    print(\"-\" * 50)"
   ]
  },
  {
   "cell_type": "markdown",
   "id": "c5c15e4a",
   "metadata": {},
   "source": [
    "# Hugging Face Embedding"
   ]
  },
  {
   "cell_type": "markdown",
   "id": "fc9b502a",
   "metadata": {},
   "source": [
    "%pip install langchain_huggingface"
   ]
  },
  {
   "cell_type": "code",
   "execution_count": null,
   "id": "fd1adaf2",
   "metadata": {},
   "outputs": [],
   "source": [
    "from langchain_huggingface import HuggingFaceEmbeddings\n",
    "\n",
    "embedding_model_huggin = HuggingFaceEmbeddings(\n",
    "    model=\"all-MiniLM-L6-v2\", # Ensure Ollama is running locally\n",
    ")"
   ]
  },
  {
   "cell_type": "code",
   "execution_count": null,
   "id": "41d01f4b",
   "metadata": {},
   "outputs": [],
   "source": [
    "from langchain_core.vectorstores import InMemoryVectorStore\n",
    "from langchain.schema import Document\n",
    "\n",
    "# Convert chunks to LangChain Documents\n",
    "documents = [Document(page_content=chunk.page_content) for chunk in chunks]\n",
    "\n",
    "# Create an in-memory vector store\n",
    "vector_store_hugging = InMemoryVectorStore.from_documents(documents, embedding_model_huggin)\n",
    "\n",
    "print(\"Number of documents in vector store:\", len(vector_store_hugging.store))"
   ]
  },
  {
   "cell_type": "code",
   "execution_count": null,
   "id": "8179fe92",
   "metadata": {},
   "outputs": [],
   "source": [
    "# Define a query\n",
    "query = \"how to get a policy?\"\n",
    "\n",
    "# Search for similar chunks and get scores\n",
    "similar_docs_with_scores = vector_store_hugging.similarity_search_with_score(query, k=3)\n",
    "\n",
    "print(\"Most similar documents:\")\n",
    "# Iterate through the results, which are tuples of (Document, score)\n",
    "for i, (doc, score) in enumerate(similar_docs_with_scores, start=1):\n",
    "    print(f\"Result {i} (Score: {score}):\")\n",
    "    print(doc.page_content)  # Print first 200 characters\n",
    "    print(\"-\" * 50)"
   ]
  }
 ],
 "metadata": {
  "kernelspec": {
   "display_name": "Python 3",
   "language": "python",
   "name": "python3"
  },
  "language_info": {
   "codemirror_mode": {
    "name": "ipython",
    "version": 3
   },
   "file_extension": ".py",
   "mimetype": "text/x-python",
   "name": "python",
   "nbconvert_exporter": "python",
   "pygments_lexer": "ipython3",
   "version": "3.12.1"
  }
 },
 "nbformat": 4,
 "nbformat_minor": 5
}
