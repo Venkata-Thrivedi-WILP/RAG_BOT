{
 "cells": [
  {
   "cell_type": "code",
   "execution_count": null,
   "id": "e45b5f86",
   "metadata": {},
   "outputs": [],
   "source": [
    "%pip install q langchain-ollama"
   ]
  },
  {
   "cell_type": "code",
   "execution_count": 8,
   "id": "446b215e",
   "metadata": {},
   "outputs": [
    {
     "name": "stdout",
     "output_type": "stream",
     "text": [
      "Note: you may need to restart the kernel to use updated packages.\n"
     ]
    }
   ],
   "source": [
    "%pip install -q langchain"
   ]
  },
  {
   "cell_type": "code",
   "execution_count": null,
   "id": "6ee2de4c",
   "metadata": {},
   "outputs": [],
   "source": [
    "%pip install -U langchain-community"
   ]
  },
  {
   "cell_type": "code",
   "execution_count": null,
   "id": "c3823b59",
   "metadata": {},
   "outputs": [],
   "source": [
    "%pip install faiss-cpu"
   ]
  },
  {
   "cell_type": "code",
   "execution_count": 2,
   "id": "6aee0285",
   "metadata": {},
   "outputs": [],
   "source": [
    "from langchain_ollama import OllamaLLM\n",
    "\n",
    "llm = OllamaLLM(model=\"phi4:latest\", temperature=0.5)"
   ]
  },
  {
   "cell_type": "code",
   "execution_count": 5,
   "id": "4dc7d835",
   "metadata": {},
   "outputs": [
    {
     "name": "stdout",
     "output_type": "stream",
     "text": [
      "LangChain is an open-source framework designed to facilitate the development of applications that leverage large language models (LLMs) and other AI technologies. It provides tools and components for building, deploying, and managing AI-driven systems, focusing on modularity and flexibility.\n",
      "\n",
      "Key features of LangChain include:\n",
      "\n",
      "1. **Modular Architecture**: Allows developers to easily integrate different components such as LLMs, databases, and user interfaces.\n",
      "   \n",
      "2. **Agent Framework**: Supports the creation of agents that can perform complex tasks by chaining together multiple AI models or services.\n",
      "\n",
      "3. **Memory Management**: Offers tools for managing state and memory across interactions, which is crucial for maintaining context in conversational applications.\n",
      "\n",
      "4. **Integration with LLMs**: Provides seamless integration with various large language models like OpenAI's GPT series, enabling developers to leverage their capabilities within custom applications.\n",
      "\n",
      "5. **Customization and Extensibility**: Allows developers to customize components and extend functionality as needed for specific use cases.\n",
      "\n",
      "LangChain is particularly useful for building sophisticated AI-powered applications that require the orchestration of multiple AI services or models, making it easier to create scalable and maintainable systems.\n"
     ]
    }
   ],
   "source": [
    "response = llm.invoke(\"what is langchain?\")\n",
    "print(response)"
   ]
  },
  {
   "cell_type": "code",
   "execution_count": 12,
   "id": "c3952901",
   "metadata": {},
   "outputs": [
    {
     "ename": "NameError",
     "evalue": "name 'embedding_model' is not defined",
     "output_type": "error",
     "traceback": [
      "\u001b[31m---------------------------------------------------------------------------\u001b[39m",
      "\u001b[31mNameError\u001b[39m                                 Traceback (most recent call last)",
      "\u001b[36mCell\u001b[39m\u001b[36m \u001b[39m\u001b[32mIn[12]\u001b[39m\u001b[32m, line 6\u001b[39m\n\u001b[32m      1\u001b[39m \u001b[38;5;28;01mfrom\u001b[39;00m\u001b[38;5;250m \u001b[39m\u001b[34;01mlangchain\u001b[39;00m\u001b[34;01m.\u001b[39;00m\u001b[34;01mvectorstores\u001b[39;00m\u001b[38;5;250m \u001b[39m\u001b[38;5;28;01mimport\u001b[39;00m FAISS\n\u001b[32m      3\u001b[39m \u001b[38;5;66;03m# Step 5: Reload the Vector Store\u001b[39;00m\n\u001b[32m      4\u001b[39m loaded_faiss_store = FAISS.load_local(\n\u001b[32m      5\u001b[39m     \u001b[33m\"\u001b[39m\u001b[33mfaiss_pdf_index\u001b[39m\u001b[33m\"\u001b[39m,\n\u001b[32m----> \u001b[39m\u001b[32m6\u001b[39m     \u001b[43membedding_model\u001b[49m,\n\u001b[32m      7\u001b[39m     allow_dangerous_deserialization=\u001b[38;5;28;01mTrue\u001b[39;00m  \u001b[38;5;66;03m# Enable deserialization\u001b[39;00m\n\u001b[32m      8\u001b[39m )\n\u001b[32m      9\u001b[39m \u001b[38;5;28mprint\u001b[39m(\u001b[33m\"\u001b[39m\u001b[33mFAISS vector store reloaded.\u001b[39m\u001b[33m\"\u001b[39m)\n",
      "\u001b[31mNameError\u001b[39m: name 'embedding_model' is not defined"
     ]
    }
   ],
   "source": [
    "from langchain.vectorstores import FAISS\n",
    "\n",
    "# Step 5: Reload the Vector Store\n",
    "loaded_faiss_store = FAISS.load_local(\n",
    "    \"faiss_pdf_index\",\n",
    "    embedding_model,\n",
    "    allow_dangerous_deserialization=True  # Enable deserialization\n",
    ")\n",
    "print(\"FAISS vector store reloaded.\")"
   ]
  }
 ],
 "metadata": {
  "kernelspec": {
   "display_name": "Python 3",
   "language": "python",
   "name": "python3"
  },
  "language_info": {
   "codemirror_mode": {
    "name": "ipython",
    "version": 3
   },
   "file_extension": ".py",
   "mimetype": "text/x-python",
   "name": "python",
   "nbconvert_exporter": "python",
   "pygments_lexer": "ipython3",
   "version": "3.12.1"
  }
 },
 "nbformat": 4,
 "nbformat_minor": 5
}
