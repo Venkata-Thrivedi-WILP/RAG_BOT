{
  "cells": [
    {
      "cell_type": "markdown",
      "source": [
        "### Prerequisites"
      ],
      "metadata": {
        "id": "hjheVaTgbNuh"
      },
      "id": "hjheVaTgbNuh"
    },
    {
      "cell_type": "code",
      "source": [
        "!pip install colab-xterm\n",
        "%load_ext colabxterm\n",
        "%xterm"
      ],
      "metadata": {
        "id": "qTf3EauL3DXI"
      },
      "id": "qTf3EauL3DXI",
      "execution_count": null,
      "outputs": []
    },
    {
      "cell_type": "markdown",
      "id": "12eeaebb",
      "metadata": {
        "id": "12eeaebb"
      },
      "source": [
        "# RAG Retriever Comparison\n",
        "This notebook compares different retrieval techniques for Retrieval-Augmented Generation (RAG) systems to determine which one provides the best results for our use case with CyberArk API documentation.\n",
        "\n",
        "## Introduction\n",
        "Retrieval quality is critical for RAG systems - the documents retrieved directly impact the quality of the generated answers. In this notebook, we'll compare several retrieval techniques to find the optimal approach."
      ]
    },
    {
      "cell_type": "markdown",
      "id": "aba6bd3f",
      "metadata": {
        "id": "aba6bd3f"
      },
      "source": [
        "## 1. Setup and Prerequisites\n"
      ]
    },
    {
      "cell_type": "code",
      "source": [
        "# Install required packages\n",
        "%pip install -q langchain-ollama langchain langchain-community faiss-cpu langchain_huggingface rank_bm25\n"
      ],
      "metadata": {
        "id": "eRCXB2AKcbMk"
      },
      "id": "eRCXB2AKcbMk",
      "execution_count": null,
      "outputs": []
    },
    {
      "cell_type": "code",
      "execution_count": null,
      "id": "c2439ada",
      "metadata": {
        "colab": {
          "base_uri": "https://localhost:8080/"
        },
        "id": "c2439ada",
        "outputId": "8edf2e6e-48d4-4827-8f39-6f717ebe96b9"
      },
      "outputs": [
        {
          "output_type": "stream",
          "name": "stdout",
          "text": [
            "FAISS vector store loaded successfully.\n"
          ]
        }
      ],
      "source": [
        "\n",
        "# Initialize the LLM\n",
        "from langchain_ollama import OllamaLLM\n",
        "llm = OllamaLLM(model=\"llama3.2:latest\", temperature=0.5)\n",
        "\n",
        "# Initialize the embedding model\n",
        "from langchain_huggingface import HuggingFaceEmbeddings\n",
        "embedding_model = HuggingFaceEmbeddings(model_name=\"all-MiniLM-L6-v2\")\n",
        "\n",
        "# Load the vector store\n",
        "from langchain.vectorstores import FAISS\n",
        "loaded_faiss_store = FAISS.load_local(\n",
        "    \"/content/RAG_BOT/LocalEmbeddings/huggingface_faiss_index\",\n",
        "    embedding_model,\n",
        "    allow_dangerous_deserialization=True\n",
        ")\n",
        "print(\"FAISS vector store loaded successfully.\")"
      ]
    },
    {
      "cell_type": "markdown",
      "id": "74008f1f",
      "metadata": {
        "id": "74008f1f"
      },
      "source": [
        "### 2. Retriever Implementations\n"
      ]
    },
    {
      "cell_type": "code",
      "execution_count": null,
      "id": "68ed3275",
      "metadata": {
        "id": "68ed3275"
      },
      "outputs": [],
      "source": [
        "# Test query\n",
        "test_query = \"How to delete a policy?\"\n",
        "\n",
        "# Function to create QA chain and get answer\n",
        "def get_answer(retriever, query, description=\"\"):\n",
        "    from langchain.chains import RetrievalQA\n",
        "\n",
        "    qa_chain = RetrievalQA.from_chain_type(\n",
        "        llm=llm,\n",
        "        retriever=retriever,\n",
        "        return_source_documents=True\n",
        "    )\n",
        "\n",
        "    print(f\"\\n=== {description} ===\")\n",
        "    print(f\"Question: {query}\")\n",
        "\n",
        "    result = qa_chain.invoke({\"query\": query})\n",
        "\n",
        "    print(\"Answer:\")\n",
        "    print(result[\"result\"])\n",
        "    print(f\"Number of source documents: {len(result['source_documents'])}\")\n",
        "\n",
        "    return result"
      ]
    },
    {
      "cell_type": "markdown",
      "id": "75fb0d0a",
      "metadata": {
        "id": "75fb0d0a"
      },
      "source": [
        "#### 2.1 Basic Vector Retriever\n",
        "The simplest approach using vector similarity search."
      ]
    },
    {
      "cell_type": "code",
      "execution_count": null,
      "id": "7030333d",
      "metadata": {
        "colab": {
          "base_uri": "https://localhost:8080/"
        },
        "id": "7030333d",
        "outputId": "b49e03c9-f314-4896-dacb-1acfbda85803"
      },
      "outputs": [
        {
          "output_type": "stream",
          "name": "stdout",
          "text": [
            "Basic retriever returned 4 documents\n",
            "\n",
            "=== Basic Vector Retriever ===\n",
            "Question: How to delete a policy?\n",
            "Answer:\n",
            "To delete a policy, you can use the DELETE method on the \"/Policy/DeletePolicyBlock\" endpoint. You will need to provide the path of the policy block to be deleted in the request body as a JSON object with a single field \"path\". The request should include the Content-Type header set to application/json.\n",
            "\n",
            "Example:\n",
            "```json\n",
            "{\n",
            "  \"path\": \"string_value\"\n",
            "}\n",
            "```\n",
            "This will send a DELETE request to the \"/Policy/DeletePolicyBlock\" endpoint with the specified policy block path, and return a response indicating whether the deletion was successful or not.\n",
            "Number of source documents: 4\n"
          ]
        }
      ],
      "source": [
        "# Basic vector retriever\n",
        "basic_retriever = loaded_faiss_store.as_retriever()\n",
        "\n",
        "# Test retrieval\n",
        "basic_docs = basic_retriever.invoke(test_query)\n",
        "print(f\"Basic retriever returned {len(basic_docs)} documents\")\n",
        "\n",
        "# Get answer\n",
        "basic_result = get_answer(basic_retriever, test_query, \"Basic Vector Retriever\")"
      ]
    },
    {
      "cell_type": "markdown",
      "id": "c14fb45c",
      "metadata": {
        "id": "c14fb45c"
      },
      "source": [
        "#### 2.2 Maximum Marginal Relevance (MMR) Retriever\n",
        "MMR promotes diversity in retrieved documents, balancing relevance with information diversity."
      ]
    },
    {
      "cell_type": "code",
      "execution_count": null,
      "id": "a7ce35bd",
      "metadata": {
        "colab": {
          "base_uri": "https://localhost:8080/"
        },
        "id": "a7ce35bd",
        "outputId": "907f7e96-b133-415e-ecaa-d14ca74131c5"
      },
      "outputs": [
        {
          "output_type": "stream",
          "name": "stdout",
          "text": [
            "MMR retriever returned 4 documents\n",
            "\n",
            "=== Maximum Marginal Relevance Retriever ===\n",
            "Question: How to delete a policy?\n",
            "Answer:\n",
            "To delete a policy, you can use the DELETE endpoint for Policy Management. The endpoint URL is `/Policy/DeletePolicyBlock` and it requires a JSON payload with the `path` property containing the path of the policy block to be deleted.\n",
            "\n",
            "Here's an example request:\n",
            "\n",
            "```json\n",
            "{\n",
            "  \"path\": \"/path/to/policy/block\"\n",
            "}\n",
            "```\n",
            "\n",
            "You should send a POST request to the `/Policy/DeletePolicyBlock` endpoint with this JSON payload. The response will indicate whether the deletion was successful or not, along with any error messages that may have occurred.\n",
            "\n",
            "For example, if the deletion is successful, the response might look like this:\n",
            "\n",
            "```json\n",
            "{\n",
            "  \"Result\": true,\n",
            "  \"Error\": {}\n",
            "}\n",
            "```\n",
            "\n",
            "If there's an error, the response might include an `Error` object with details about what went wrong.\n",
            "Number of source documents: 4\n"
          ]
        }
      ],
      "source": [
        "# MMR retriever\n",
        "mmr_retriever = loaded_faiss_store.as_retriever(search_type=\"mmr\")\n",
        "\n",
        "# Test retrieval\n",
        "mmr_docs = mmr_retriever.invoke(test_query)\n",
        "print(f\"MMR retriever returned {len(mmr_docs)} documents\")\n",
        "\n",
        "# Get answer\n",
        "mmr_result = get_answer(mmr_retriever, test_query, \"Maximum Marginal Relevance Retriever\")"
      ]
    },
    {
      "cell_type": "markdown",
      "id": "0a1bcf38",
      "metadata": {
        "id": "0a1bcf38"
      },
      "source": [
        "#### 2.3 Similarity Score Threshold Retriever\n",
        "Only returns documents above a certain similarity threshold, helping filter out irrelevant results."
      ]
    },
    {
      "cell_type": "code",
      "execution_count": null,
      "id": "4cd399ea",
      "metadata": {
        "colab": {
          "base_uri": "https://localhost:8080/"
        },
        "id": "4cd399ea",
        "outputId": "55c62780-1cb1-42a8-b0e9-96e7d5b23233"
      },
      "outputs": [
        {
          "output_type": "stream",
          "name": "stdout",
          "text": [
            "SST retriever returned 2 documents\n",
            "\n",
            "=== Similarity Score Threshold Retriever ===\n",
            "Question: How to delete a policy?\n",
            "Answer:\n",
            "To delete a policy, you need to send a POST request to the /Policy/DeletePolicyBlock endpoint with the required JSON payload containing the path of the policy block to be deleted. The request body should have the \"path\" field with a string value.\n",
            "\n",
            "For example:\n",
            "\n",
            "```json\n",
            "{\n",
            "  \"path\": \"string_value\"\n",
            "}\n",
            "```\n",
            "\n",
            "This will return a response in the format specified by the PolicyDeletePolicyBlock schema, indicating whether the deletion was successful or not.\n",
            "Number of source documents: 2\n"
          ]
        }
      ],
      "source": [
        "# Similarity Score Threshold retriever\n",
        "sst_retriever = loaded_faiss_store.as_retriever(\n",
        "    search_type=\"similarity_score_threshold\",\n",
        "    search_kwargs={\"score_threshold\": 0.3, \"k\": 2}\n",
        ")\n",
        "\n",
        "# Test retrieval\n",
        "sst_docs = sst_retriever.invoke(test_query)\n",
        "print(f\"SST retriever returned {len(sst_docs)} documents\")\n",
        "\n",
        "# Get answer\n",
        "sst_result = get_answer(sst_retriever, test_query, \"Similarity Score Threshold Retriever\")"
      ]
    },
    {
      "cell_type": "markdown",
      "id": "827f6fcf",
      "metadata": {
        "id": "827f6fcf"
      },
      "source": [
        "#### 2.4 MultiQuery Retriever\n",
        "Generates multiple query variations to improve retrieval coverage."
      ]
    },
    {
      "cell_type": "code",
      "execution_count": null,
      "id": "52d80916",
      "metadata": {
        "colab": {
          "base_uri": "https://localhost:8080/"
        },
        "id": "52d80916",
        "outputId": "912f731f-1681-48b3-a1e0-7795c36cab0c"
      },
      "outputs": [
        {
          "output_type": "stream",
          "name": "stderr",
          "text": [
            "/tmp/ipython-input-9-938584466.py:16: LangChainDeprecationWarning: The method `BaseRetriever.get_relevant_documents` was deprecated in langchain-core 0.1.46 and will be removed in 1.0. Use :meth:`~invoke` instead.\n",
            "  multi_query_docs = multi_query_retriever.get_relevant_documents(test_query)\n",
            "INFO:langchain.retrievers.multi_query:Generated queries: ['Here are three different versions of the original question:', 'How to remove or cancel an existing insurance policy?', ' ', 'What steps can I take to terminate my current health insurance policy?', 'Can someone help me with deleting or revoking my auto insurance policy?']\n"
          ]
        },
        {
          "output_type": "stream",
          "name": "stdout",
          "text": [
            "MultiQuery retriever returned 10 documents\n",
            "\n",
            "=== MultiQuery Retriever ===\n",
            "Question: How to delete a policy?\n"
          ]
        },
        {
          "output_type": "stream",
          "name": "stderr",
          "text": [
            "INFO:langchain.retrievers.multi_query:Generated queries: ['Here are three different versions of the original question:', 'How to cancel or terminate an existing policy?', 'What steps can I take to remove a current insurance policy from my records?', 'Can anyone help me with deleting or voiding a pre-existing policy agreement?']\n"
          ]
        },
        {
          "output_type": "stream",
          "name": "stdout",
          "text": [
            "Answer:\n",
            "To delete a policy, you can use the Delete Policy Block endpoint with a POST method and provide the path of the policy block to be deleted in the request body. The request should have a JSON payload with the path field as a string.\n",
            "\n",
            "Here is an example of how the request would look like:\n",
            "\n",
            "```json\n",
            "{\n",
            "  \"path\": \"/Policy/SavePolicyBlock3\"\n",
            "}\n",
            "```\n",
            "\n",
            "This endpoint requires authentication using the bearerAuth security scheme and returns a response in the format specified by the PolicyDeletePolicyBlock schema.\n",
            "Number of source documents: 6\n"
          ]
        }
      ],
      "source": [
        "# MultiQuery retriever\n",
        "from langchain.retrievers.multi_query import MultiQueryRetriever\n",
        "\n",
        "# Configure logging to see generated queries\n",
        "import logging\n",
        "logging.basicConfig()\n",
        "logging.getLogger(\"langchain.retrievers.multi_query\").setLevel(logging.INFO)\n",
        "\n",
        "# Create retriever\n",
        "multi_query_retriever = MultiQueryRetriever.from_llm(\n",
        "    retriever=loaded_faiss_store.as_retriever(),\n",
        "    llm=llm\n",
        ")\n",
        "\n",
        "# Test retrieval\n",
        "multi_query_docs = multi_query_retriever.get_relevant_documents(test_query)\n",
        "print(f\"MultiQuery retriever returned {len(multi_query_docs)} documents\")\n",
        "\n",
        "# Get answer\n",
        "multi_query_result = get_answer(multi_query_retriever, test_query, \"MultiQuery Retriever\")"
      ]
    },
    {
      "cell_type": "markdown",
      "id": "327c05f7",
      "metadata": {
        "id": "327c05f7"
      },
      "source": [
        "#### 2.5 Custom MultiQuery Retriever with Output Parser\n",
        "A more tailored approach to query generation for domain-specific needs."
      ]
    },
    {
      "cell_type": "code",
      "execution_count": null,
      "id": "f6807a21",
      "metadata": {
        "colab": {
          "base_uri": "https://localhost:8080/"
        },
        "id": "f6807a21",
        "outputId": "b5488fed-7d35-49c6-9aac-6f29e3e6b49c"
      },
      "outputs": [
        {
          "output_type": "stream",
          "name": "stderr",
          "text": [
            "INFO:langchain.retrievers.multi_query:Generated queries: ['Here are five alternative rephrasings or expansions of the question that could help retrieve the most relevant documentation chunks:', \"1. How to remove an existing policy from CyberArk's configuration?\", '2. What is the API endpoint and HTTP method required to delete a policy in CyberArk?', '3. Can you provide details on the request body schema for deleting a policy, including any required parameters or fields?', '4. How do I use the CyberArk API to revoke or invalidate an existing policy, and what are the implications for access control?', '5. Are there specific steps or considerations needed when deleting a policy in CyberArk, such as handling dependencies or relationships with other policies?', 'These alternatives aim to provide additional context, clarify the request, or explore related concepts that might be relevant to retrieving the most accurate documentation chunks.']\n"
          ]
        },
        {
          "output_type": "stream",
          "name": "stdout",
          "text": [
            "Custom MultiQuery retriever returned 13 documents\n",
            "\n",
            "=== Custom MultiQuery Retriever ===\n",
            "Question: How to delete a policy?\n"
          ]
        },
        {
          "output_type": "stream",
          "name": "stderr",
          "text": [
            "INFO:langchain.retrievers.multi_query:Generated queries: ['Here are 5 alternative rephrasings or expansions of the question that could help retrieve the most relevant documentation chunks:', '1. How do I remove an existing policy from the CyberArk server?', '2. What is the API endpoint and HTTP method required to delete a policy in CyberArk?', '3. Can you provide instructions on how to use the CyberArk API to revoke or delete a specific policy ID?', '4. How can I find the schema for the DeletePolicy request in the CyberArk API documentation, including any required parameters and query parameters?', '5. What are the different methods (GET, POST, PUT, DELETE) used to manage policies in the CyberArk API, and how do I use them to delete a policy?', 'These alternative queries incorporate synonyms, expand abbreviations, and include common ways developers might phrase this question, while also incorporating relevant concepts such as endpoint names, paths, HTTP methods, parameters, request or response schemas.']\n"
          ]
        },
        {
          "output_type": "stream",
          "name": "stdout",
          "text": [
            "Answer:\n",
            "To delete a policy, you can use the `DELETE` method on the `/policies/{policyId}` endpoint.\n",
            "\n",
            "Here's an example of how you can do this using the CyberArk Identity API:\n",
            "\n",
            "```\n",
            "curl -X DELETE \\\n",
            "  https://<your-organization-domain>.cyberark.com/api/v2/policies/<policyId> \\\n",
            "  -H 'Authorization: Bearer <your-api-token>' \\\n",
            "  -H 'Content-Type: application/json'\n",
            "```\n",
            "\n",
            "Replace `<your-organization-domain>` with your organization's domain, `<policyId>` with the ID of the policy you want to delete, and `<your-api-token>` with a valid API token for your organization.\n",
            "\n",
            "Note that this will permanently delete the policy from the CyberArk Identity system. Be sure to test this endpoint in a non-production environment before using it in production.\n",
            "\n",
            "Also, if you want to delete all policies at once, you can use the `/policies` endpoint and set the `limit` parameter to `-1`. This will return an empty array, indicating that no policies were found.\n",
            "\n",
            "```\n",
            "curl -X GET \\\n",
            "  https://<your-organization-domain>.cyberark.com/api/v2/policies?limit=-1 \\\n",
            "  -H 'Authorization: Bearer <your-api-token>' \\\n",
            "  -H 'Content-Type: application/json'\n",
            "```\n",
            "\n",
            "This can be useful for cleaning up policies in a development or testing environment.\n",
            "Number of source documents: 12\n"
          ]
        }
      ],
      "source": [
        "# Custom MultiQuery with Output Parser\n",
        "from typing import List\n",
        "from langchain_core.output_parsers import BaseOutputParser\n",
        "from langchain_core.prompts import PromptTemplate\n",
        "\n",
        "# Create custom output parser\n",
        "class LineListOutputParser(BaseOutputParser[List[str]]):\n",
        "    def parse(self, txt: str) -> List[str]:\n",
        "        lines = txt.strip().split(\"\\n\")\n",
        "        return list(filter(None, lines))\n",
        "\n",
        "output_parser = LineListOutputParser()\n",
        "\n",
        "# Domain-specific prompt for CyberArk API documentation\n",
        "QUERY_PROMPT = PromptTemplate(\n",
        "    input_variables=[\"question\"],\n",
        "    template=\"\"\"\n",
        "You are an expert AI assistant helping users query CyberArk API documentation.\n",
        "\n",
        "Given the user question below, generate up to 5 alternative rephrasings or expansions of the question that could help retrieve the most relevant documentation chunks.\n",
        "\n",
        "These alternatives should:\n",
        "- Include any possible synonyms or related terms.\n",
        "- Expand abbreviations.\n",
        "- Include common ways developers might phrase this question.\n",
        "- Optionally incorporate relevant concepts such as endpoint names, paths, HTTP methods, parameters, request or response schemas if they are likely relevant.\n",
        "- Be clear and natural in language.\n",
        "\n",
        "Each alternative should be on its own line.\n",
        "\n",
        "User Question:\n",
        "{question}\n",
        "\n",
        "Alternative queries:\n",
        "\"\"\"\n",
        ")\n",
        "\n",
        "# Create chain and retriever\n",
        "llm_chain = QUERY_PROMPT | llm | output_parser\n",
        "\n",
        "custom_multi_query_retriever = MultiQueryRetriever(\n",
        "    retriever=loaded_faiss_store.as_retriever(),\n",
        "    llm_chain=llm_chain,\n",
        "    parser_key=\"lines\"\n",
        ")\n",
        "\n",
        "# Test retrieval\n",
        "custom_multi_query_docs = custom_multi_query_retriever.invoke(test_query)\n",
        "print(f\"Custom MultiQuery retriever returned {len(custom_multi_query_docs)} documents\")\n",
        "\n",
        "# Get answer\n",
        "custom_multi_query_result = get_answer(custom_multi_query_retriever, test_query, \"Custom MultiQuery Retriever\")"
      ]
    },
    {
      "cell_type": "markdown",
      "id": "fc47c6a2",
      "metadata": {
        "id": "fc47c6a2"
      },
      "source": [
        "#### 2.6 Ensemble Retriever (BM25 + FAISS)\n",
        "Combines keyword-based (BM25) and semantic (FAISS) search for better coverage."
      ]
    },
    {
      "cell_type": "code",
      "execution_count": null,
      "id": "95a871ed",
      "metadata": {
        "colab": {
          "base_uri": "https://localhost:8080/"
        },
        "id": "95a871ed",
        "outputId": "b22708c3-1397-4ac7-c844-cad2d2e52728"
      },
      "outputs": [
        {
          "output_type": "stream",
          "name": "stdout",
          "text": [
            "Ensemble retriever returned 6 documents\n",
            "\n",
            "=== Ensemble Retriever (BM25 + FAISS) ===\n",
            "Question: How to delete a policy?\n",
            "Answer:\n",
            "To delete a policy, you would send a POST request to the /Policy/DeletePolicyBlock endpoint with a JSON body containing the path of the policy block you want to delete. The request body should have a single field named \"path\" which contains the path of the policy block.\n",
            "\n",
            "For example:\n",
            "\n",
            "```json\n",
            "{\n",
            "  \"path\": \"string_value\"\n",
            "}\n",
            "```\n",
            "\n",
            "This would be sent in the request body, and the response would contain a \"Result\" field indicating whether the deletion was successful or not.\n",
            "Number of source documents: 6\n"
          ]
        }
      ],
      "source": [
        "# Ensemble Retriever\n",
        "from langchain.retrievers import EnsembleRetriever\n",
        "from langchain_community.retrievers import BM25Retriever\n",
        "\n",
        "# Extract documents from the docstore\n",
        "try:\n",
        "    all_docs = [loaded_faiss_store.docstore._dict[doc_id] for doc_id in loaded_faiss_store.index_to_docstore_id.values()]\n",
        "except AttributeError:\n",
        "    # Fallback for different docstore structure\n",
        "    all_docs = [loaded_faiss_store.docstore.get(doc_id) for doc_id in loaded_faiss_store.index_to_docstore_id.values()]\n",
        "\n",
        "# Create BM25 retriever\n",
        "bm25_retriever = BM25Retriever.from_documents(all_docs)\n",
        "bm25_retriever.k = 2\n",
        "\n",
        "# Create ensemble retriever\n",
        "ensemble_retriever = EnsembleRetriever(\n",
        "    retrievers=[bm25_retriever, basic_retriever],\n",
        "    weights=[0.5, 0.5]\n",
        ")\n",
        "\n",
        "# Test retrieval\n",
        "ensemble_docs = ensemble_retriever.invoke(test_query)\n",
        "print(f\"Ensemble retriever returned {len(ensemble_docs)} documents\")\n",
        "\n",
        "# Get answer\n",
        "ensemble_result = get_answer(ensemble_retriever, test_query, \"Ensemble Retriever (BM25 + FAISS)\")"
      ]
    },
    {
      "cell_type": "markdown",
      "id": "dec63f49",
      "metadata": {
        "id": "dec63f49"
      },
      "source": [
        "#### 2.7 Enhanced Ensemble with Custom MultiQuery\n",
        "Combining the best techniques: keyword search and custom query expansion."
      ]
    },
    {
      "cell_type": "code",
      "execution_count": null,
      "id": "6568748d",
      "metadata": {
        "colab": {
          "base_uri": "https://localhost:8080/"
        },
        "id": "6568748d",
        "outputId": "0d9ea315-cd50-4294-c7dc-35f38fa5a560"
      },
      "outputs": [
        {
          "output_type": "stream",
          "name": "stderr",
          "text": [
            "INFO:langchain.retrievers.multi_query:Generated queries: ['Here are 5 alternative rephrasings or expansions of the question that could help retrieve the most relevant documentation chunks:', '1. How do I remove an existing policy from CyberArk?', '2. What is the procedure for deleting a pre-defined policy in CyberArk Constrained Database?', '3. Can you provide instructions on how to delete a policy using the CyberArk API, including any required authentication or authorization steps?', '4. How to revoke access to a specific policy via the CyberArk REST API endpoint?', '5. Are there any specific parameters or HTTP methods (e.g. DELETE, POST) that need to be used when deleting a policy in CyberArk, and what is the expected response schema?', 'These alternative queries incorporate synonyms (e.g. \"remove\" instead of \"delete\"), expand abbreviations (e.g. \"Constrained Database\" for \"CDB\"), and include common developer phrases (e.g. \"using the CyberArk API\"). They also try to identify relevant endpoints, parameters, HTTP methods, and response schemas that might be necessary to answer the original question.']\n"
          ]
        },
        {
          "output_type": "stream",
          "name": "stdout",
          "text": [
            "Enhanced Ensemble retriever returned 14 documents\n",
            "\n",
            "=== Enhanced Ensemble (BM25 + Custom MultiQuery) ===\n",
            "Question: How to delete a policy?\n"
          ]
        },
        {
          "output_type": "stream",
          "name": "stderr",
          "text": [
            "INFO:langchain.retrievers.multi_query:Generated queries: ['Here are 5 alternative rephrasings or expansions of the question that could help retrieve the most relevant documentation chunks:', '1. How do I remove an existing policy from CyberArk?', '2. What is the API endpoint for deleting a policy in CyberArk, and what HTTP method should be used?', \"3. Can you provide details on how to delete a specific policy using CyberArk's REST API or SDK?\", \"4. Are there any parameters or query strings that need to be passed when requesting the deletion of a policy via CyberArk's API?\", \"5. How do I handle errors or edge cases when attempting to delete a policy through CyberArk's API, and what are the response schema expectations for a successful deletion?\", 'These alternatives aim to provide more context, clarify the request, and include relevant details that might help retrieve the most accurate documentation chunks from the CyberArk API documentation.']\n"
          ]
        },
        {
          "output_type": "stream",
          "name": "stdout",
          "text": [
            "Answer:\n",
            "To delete a policy, you can use the `Delete Policy` endpoint. Here are the steps:\n",
            "\n",
            "1. Open the API documentation for your CyberArk Cloud Directory instance.\n",
            "2. Navigate to the `Policy Management` section.\n",
            "3. Click on the \"Delete Policy\" endpoint.\n",
            "4. Provide the UUID of the policy you want to delete in the request body.\n",
            "\n",
            "The request body should contain a JSON object with the following properties:\n",
            "```json\n",
            "{\n",
            "  \"uuid\": \"string_value\"\n",
            "}\n",
            "```\n",
            "Replace `\"string_value\"` with the actual UUID of the policy you want to delete.\n",
            "\n",
            "Example Request:\n",
            "```bash\n",
            "POST /policy-management/delete-policy HTTP/1.1\n",
            "Content-Type: application/json\n",
            "\n",
            "{\n",
            "  \"uuid\": \"12345678-1234-1234-1234-123456789012\"\n",
            "}\n",
            "```\n",
            "This will send a request to the `Delete Policy` endpoint with the UUID of the policy to be deleted.\n",
            "\n",
            "Note: Make sure you have the necessary permissions and access rights to delete policies in your CyberArk Cloud Directory instance.\n",
            "Number of source documents: 12\n"
          ]
        }
      ],
      "source": [
        "# Enhanced Ensemble with Custom MultiQuery\n",
        "enhanced_ensemble_retriever = EnsembleRetriever(\n",
        "    retrievers=[bm25_retriever, custom_multi_query_retriever],\n",
        "    weights=[0.4, 0.6]\n",
        ")\n",
        "\n",
        "# Test retrieval\n",
        "enhanced_ensemble_docs = enhanced_ensemble_retriever.invoke(test_query)\n",
        "print(f\"Enhanced Ensemble retriever returned {len(enhanced_ensemble_docs)} documents\")\n",
        "\n",
        "# Get answer\n",
        "enhanced_ensemble_result = get_answer(enhanced_ensemble_retriever, test_query, \"Enhanced Ensemble (BM25 + Custom MultiQuery)\")"
      ]
    },
    {
      "cell_type": "markdown",
      "id": "125c19cd",
      "metadata": {
        "id": "125c19cd"
      },
      "source": [
        "#### 2.8 Document Reordering for Long Context\n",
        "Optimizes document order for better context utilization in the LLM."
      ]
    },
    {
      "cell_type": "code",
      "execution_count": null,
      "id": "c5f7371f",
      "metadata": {
        "colab": {
          "base_uri": "https://localhost:8080/"
        },
        "id": "c5f7371f",
        "outputId": "20634ea0-671f-4d77-a456-0663fc8b5213"
      },
      "outputs": [
        {
          "output_type": "stream",
          "name": "stderr",
          "text": [
            "INFO:langchain.retrievers.multi_query:Generated queries: ['Here are 5 alternative rephrasings or expansions of the user question that could help retrieve the most relevant documentation chunks:', '1. What is the procedure for removing an existing policy from the CyberArk server?', '2. How do I delete a specific policy using its GUID (e.g., /policies/{policyGuid}/delete)?', '3. Can you provide instructions on how to remove a policy that has been assigned to a user or group in CyberArk?', '4. What is the HTTP method and endpoint for deleting a policy in CyberArk (e.g., DELETE /policies/{policyId})?', '5. Are there any specific parameters or query options required when deleting a policy, such as the --force option?']\n"
          ]
        },
        {
          "output_type": "stream",
          "name": "stdout",
          "text": [
            "\n",
            "=== Long Context Reordering ===\n",
            "Question: How to delete a policy?\n",
            "Answer:\n",
            "To delete a policy, use the endpoint `/Policy/SavePolicyBlock3` with a `POST` request. \n",
            "\n",
            "This endpoint allows you to replace and deprecate the previous `SavePolicyBlock2` by adding the \"rev stamp\" functionality that helps prevent change loss when policies are being edited by multiple users.\n",
            "\n",
            "The request body should contain an object with two properties: `policy` and `plinks`. The `policy` property is a JSON object containing the details of the policy being added or updated, including `Newpolicy`, `Version`, `Path`, `RevStamp`, and `Description`. If `Newpolicy` is false, then `RevStamp` must be provided.\n",
            "\n",
            "The `plinks` property is an array of plink objects representing the current plinks file. \n",
            "\n",
            "Note: This endpoint requires authentication with a bearer token.\n"
          ]
        }
      ],
      "source": [
        "# Document Reordering\n",
        "from langchain_community.document_transformers import LongContextReorder\n",
        "from langchain.chains.combine_documents import create_stuff_documents_chain\n",
        "from langchain_core.prompts import PromptTemplate\n",
        "\n",
        "# Get documents using our best retriever\n",
        "retrieved_docs = custom_multi_query_retriever.invoke(test_query)\n",
        "\n",
        "# Apply reordering\n",
        "reordering = LongContextReorder()\n",
        "reordered_docs = reordering.transform_documents(retrieved_docs)\n",
        "\n",
        "# Define a prompt template\n",
        "prompt_template = \"\"\"\n",
        "Given these texts:\n",
        "-----\n",
        "{context}\n",
        "-----\n",
        "Please answer the following question:\n",
        "{query}\n",
        "\"\"\"\n",
        "\n",
        "prompt = PromptTemplate(\n",
        "    template=prompt_template,\n",
        "    input_variables=[\"context\", \"query\"],\n",
        ")\n",
        "\n",
        "# Create and invoke the chain with reordered documents\n",
        "chain = create_stuff_documents_chain(llm, prompt)\n",
        "reordered_response = chain.invoke({\"context\": reordered_docs, \"query\": test_query})\n",
        "\n",
        "print(\"\\n=== Long Context Reordering ===\")\n",
        "print(f\"Question: {test_query}\")\n",
        "print(\"Answer:\")\n",
        "print(reordered_response)"
      ]
    },
    {
      "cell_type": "markdown",
      "id": "6c440c7e",
      "metadata": {
        "id": "6c440c7e"
      },
      "source": [
        "### 3. Retriever Comparison\n",
        "Let's systematically compare the retrievers:"
      ]
    },
    {
      "cell_type": "code",
      "execution_count": null,
      "id": "df1d01ea",
      "metadata": {
        "colab": {
          "base_uri": "https://localhost:8080/",
          "height": 318
        },
        "id": "df1d01ea",
        "outputId": "eb89a504-e30e-40c5-e10d-7dd09e3fd93c"
      },
      "outputs": [
        {
          "output_type": "stream",
          "name": "stdout",
          "text": [
            "Retriever Comparison:\n"
          ]
        },
        {
          "output_type": "execute_result",
          "data": {
            "text/plain": [
              "                Retriever Type  Documents Retrieved  \\\n",
              "0                 Basic Vector                    4   \n",
              "1                          MMR                    4   \n",
              "2         Similarity Threshold                    2   \n",
              "3                   MultiQuery                   10   \n",
              "4            Custom MultiQuery                   13   \n",
              "5     Ensemble (BM25 + Vector)                    6   \n",
              "6            Enhanced Ensemble                   14   \n",
              "7  Reordered Custom MultiQuery                   10   \n",
              "\n",
              "                             Advantages                           Limitations  \n",
              "0                          Simple, fast           Sensitive to query phrasing  \n",
              "1   Diverse results, reduces redundancy      May miss some relevant documents  \n",
              "2           Filters low-quality matches  Risk of excluding relevant documents  \n",
              "3               Improves query coverage             Computationally expensive  \n",
              "4       Domain-specific query expansion      Quality depends on prompt design  \n",
              "5  Combines keyword and semantic search           More complex implementation  \n",
              "6          Best of both worlds approach                    Highest complexity  \n",
              "7  Optimizes document ordering for LLMs             Post-processing step only  "
            ],
            "text/html": [
              "\n",
              "  <div id=\"df-f7a05069-3878-4905-a8a1-9955baba4779\" class=\"colab-df-container\">\n",
              "    <div>\n",
              "<style scoped>\n",
              "    .dataframe tbody tr th:only-of-type {\n",
              "        vertical-align: middle;\n",
              "    }\n",
              "\n",
              "    .dataframe tbody tr th {\n",
              "        vertical-align: top;\n",
              "    }\n",
              "\n",
              "    .dataframe thead th {\n",
              "        text-align: right;\n",
              "    }\n",
              "</style>\n",
              "<table border=\"1\" class=\"dataframe\">\n",
              "  <thead>\n",
              "    <tr style=\"text-align: right;\">\n",
              "      <th></th>\n",
              "      <th>Retriever Type</th>\n",
              "      <th>Documents Retrieved</th>\n",
              "      <th>Advantages</th>\n",
              "      <th>Limitations</th>\n",
              "    </tr>\n",
              "  </thead>\n",
              "  <tbody>\n",
              "    <tr>\n",
              "      <th>0</th>\n",
              "      <td>Basic Vector</td>\n",
              "      <td>4</td>\n",
              "      <td>Simple, fast</td>\n",
              "      <td>Sensitive to query phrasing</td>\n",
              "    </tr>\n",
              "    <tr>\n",
              "      <th>1</th>\n",
              "      <td>MMR</td>\n",
              "      <td>4</td>\n",
              "      <td>Diverse results, reduces redundancy</td>\n",
              "      <td>May miss some relevant documents</td>\n",
              "    </tr>\n",
              "    <tr>\n",
              "      <th>2</th>\n",
              "      <td>Similarity Threshold</td>\n",
              "      <td>2</td>\n",
              "      <td>Filters low-quality matches</td>\n",
              "      <td>Risk of excluding relevant documents</td>\n",
              "    </tr>\n",
              "    <tr>\n",
              "      <th>3</th>\n",
              "      <td>MultiQuery</td>\n",
              "      <td>10</td>\n",
              "      <td>Improves query coverage</td>\n",
              "      <td>Computationally expensive</td>\n",
              "    </tr>\n",
              "    <tr>\n",
              "      <th>4</th>\n",
              "      <td>Custom MultiQuery</td>\n",
              "      <td>13</td>\n",
              "      <td>Domain-specific query expansion</td>\n",
              "      <td>Quality depends on prompt design</td>\n",
              "    </tr>\n",
              "    <tr>\n",
              "      <th>5</th>\n",
              "      <td>Ensemble (BM25 + Vector)</td>\n",
              "      <td>6</td>\n",
              "      <td>Combines keyword and semantic search</td>\n",
              "      <td>More complex implementation</td>\n",
              "    </tr>\n",
              "    <tr>\n",
              "      <th>6</th>\n",
              "      <td>Enhanced Ensemble</td>\n",
              "      <td>14</td>\n",
              "      <td>Best of both worlds approach</td>\n",
              "      <td>Highest complexity</td>\n",
              "    </tr>\n",
              "    <tr>\n",
              "      <th>7</th>\n",
              "      <td>Reordered Custom MultiQuery</td>\n",
              "      <td>10</td>\n",
              "      <td>Optimizes document ordering for LLMs</td>\n",
              "      <td>Post-processing step only</td>\n",
              "    </tr>\n",
              "  </tbody>\n",
              "</table>\n",
              "</div>\n",
              "    <div class=\"colab-df-buttons\">\n",
              "\n",
              "  <div class=\"colab-df-container\">\n",
              "    <button class=\"colab-df-convert\" onclick=\"convertToInteractive('df-f7a05069-3878-4905-a8a1-9955baba4779')\"\n",
              "            title=\"Convert this dataframe to an interactive table.\"\n",
              "            style=\"display:none;\">\n",
              "\n",
              "  <svg xmlns=\"http://www.w3.org/2000/svg\" height=\"24px\" viewBox=\"0 -960 960 960\">\n",
              "    <path d=\"M120-120v-720h720v720H120Zm60-500h600v-160H180v160Zm220 220h160v-160H400v160Zm0 220h160v-160H400v160ZM180-400h160v-160H180v160Zm440 0h160v-160H620v160ZM180-180h160v-160H180v160Zm440 0h160v-160H620v160Z\"/>\n",
              "  </svg>\n",
              "    </button>\n",
              "\n",
              "  <style>\n",
              "    .colab-df-container {\n",
              "      display:flex;\n",
              "      gap: 12px;\n",
              "    }\n",
              "\n",
              "    .colab-df-convert {\n",
              "      background-color: #E8F0FE;\n",
              "      border: none;\n",
              "      border-radius: 50%;\n",
              "      cursor: pointer;\n",
              "      display: none;\n",
              "      fill: #1967D2;\n",
              "      height: 32px;\n",
              "      padding: 0 0 0 0;\n",
              "      width: 32px;\n",
              "    }\n",
              "\n",
              "    .colab-df-convert:hover {\n",
              "      background-color: #E2EBFA;\n",
              "      box-shadow: 0px 1px 2px rgba(60, 64, 67, 0.3), 0px 1px 3px 1px rgba(60, 64, 67, 0.15);\n",
              "      fill: #174EA6;\n",
              "    }\n",
              "\n",
              "    .colab-df-buttons div {\n",
              "      margin-bottom: 4px;\n",
              "    }\n",
              "\n",
              "    [theme=dark] .colab-df-convert {\n",
              "      background-color: #3B4455;\n",
              "      fill: #D2E3FC;\n",
              "    }\n",
              "\n",
              "    [theme=dark] .colab-df-convert:hover {\n",
              "      background-color: #434B5C;\n",
              "      box-shadow: 0px 1px 3px 1px rgba(0, 0, 0, 0.15);\n",
              "      filter: drop-shadow(0px 1px 2px rgba(0, 0, 0, 0.3));\n",
              "      fill: #FFFFFF;\n",
              "    }\n",
              "  </style>\n",
              "\n",
              "    <script>\n",
              "      const buttonEl =\n",
              "        document.querySelector('#df-f7a05069-3878-4905-a8a1-9955baba4779 button.colab-df-convert');\n",
              "      buttonEl.style.display =\n",
              "        google.colab.kernel.accessAllowed ? 'block' : 'none';\n",
              "\n",
              "      async function convertToInteractive(key) {\n",
              "        const element = document.querySelector('#df-f7a05069-3878-4905-a8a1-9955baba4779');\n",
              "        const dataTable =\n",
              "          await google.colab.kernel.invokeFunction('convertToInteractive',\n",
              "                                                    [key], {});\n",
              "        if (!dataTable) return;\n",
              "\n",
              "        const docLinkHtml = 'Like what you see? Visit the ' +\n",
              "          '<a target=\"_blank\" href=https://colab.research.google.com/notebooks/data_table.ipynb>data table notebook</a>'\n",
              "          + ' to learn more about interactive tables.';\n",
              "        element.innerHTML = '';\n",
              "        dataTable['output_type'] = 'display_data';\n",
              "        await google.colab.output.renderOutput(dataTable, element);\n",
              "        const docLink = document.createElement('div');\n",
              "        docLink.innerHTML = docLinkHtml;\n",
              "        element.appendChild(docLink);\n",
              "      }\n",
              "    </script>\n",
              "  </div>\n",
              "\n",
              "\n",
              "    <div id=\"df-dbc88fc2-a8fa-4dfc-92c9-f9d26b1aaf31\">\n",
              "      <button class=\"colab-df-quickchart\" onclick=\"quickchart('df-dbc88fc2-a8fa-4dfc-92c9-f9d26b1aaf31')\"\n",
              "                title=\"Suggest charts\"\n",
              "                style=\"display:none;\">\n",
              "\n",
              "<svg xmlns=\"http://www.w3.org/2000/svg\" height=\"24px\"viewBox=\"0 0 24 24\"\n",
              "     width=\"24px\">\n",
              "    <g>\n",
              "        <path d=\"M19 3H5c-1.1 0-2 .9-2 2v14c0 1.1.9 2 2 2h14c1.1 0 2-.9 2-2V5c0-1.1-.9-2-2-2zM9 17H7v-7h2v7zm4 0h-2V7h2v10zm4 0h-2v-4h2v4z\"/>\n",
              "    </g>\n",
              "</svg>\n",
              "      </button>\n",
              "\n",
              "<style>\n",
              "  .colab-df-quickchart {\n",
              "      --bg-color: #E8F0FE;\n",
              "      --fill-color: #1967D2;\n",
              "      --hover-bg-color: #E2EBFA;\n",
              "      --hover-fill-color: #174EA6;\n",
              "      --disabled-fill-color: #AAA;\n",
              "      --disabled-bg-color: #DDD;\n",
              "  }\n",
              "\n",
              "  [theme=dark] .colab-df-quickchart {\n",
              "      --bg-color: #3B4455;\n",
              "      --fill-color: #D2E3FC;\n",
              "      --hover-bg-color: #434B5C;\n",
              "      --hover-fill-color: #FFFFFF;\n",
              "      --disabled-bg-color: #3B4455;\n",
              "      --disabled-fill-color: #666;\n",
              "  }\n",
              "\n",
              "  .colab-df-quickchart {\n",
              "    background-color: var(--bg-color);\n",
              "    border: none;\n",
              "    border-radius: 50%;\n",
              "    cursor: pointer;\n",
              "    display: none;\n",
              "    fill: var(--fill-color);\n",
              "    height: 32px;\n",
              "    padding: 0;\n",
              "    width: 32px;\n",
              "  }\n",
              "\n",
              "  .colab-df-quickchart:hover {\n",
              "    background-color: var(--hover-bg-color);\n",
              "    box-shadow: 0 1px 2px rgba(60, 64, 67, 0.3), 0 1px 3px 1px rgba(60, 64, 67, 0.15);\n",
              "    fill: var(--button-hover-fill-color);\n",
              "  }\n",
              "\n",
              "  .colab-df-quickchart-complete:disabled,\n",
              "  .colab-df-quickchart-complete:disabled:hover {\n",
              "    background-color: var(--disabled-bg-color);\n",
              "    fill: var(--disabled-fill-color);\n",
              "    box-shadow: none;\n",
              "  }\n",
              "\n",
              "  .colab-df-spinner {\n",
              "    border: 2px solid var(--fill-color);\n",
              "    border-color: transparent;\n",
              "    border-bottom-color: var(--fill-color);\n",
              "    animation:\n",
              "      spin 1s steps(1) infinite;\n",
              "  }\n",
              "\n",
              "  @keyframes spin {\n",
              "    0% {\n",
              "      border-color: transparent;\n",
              "      border-bottom-color: var(--fill-color);\n",
              "      border-left-color: var(--fill-color);\n",
              "    }\n",
              "    20% {\n",
              "      border-color: transparent;\n",
              "      border-left-color: var(--fill-color);\n",
              "      border-top-color: var(--fill-color);\n",
              "    }\n",
              "    30% {\n",
              "      border-color: transparent;\n",
              "      border-left-color: var(--fill-color);\n",
              "      border-top-color: var(--fill-color);\n",
              "      border-right-color: var(--fill-color);\n",
              "    }\n",
              "    40% {\n",
              "      border-color: transparent;\n",
              "      border-right-color: var(--fill-color);\n",
              "      border-top-color: var(--fill-color);\n",
              "    }\n",
              "    60% {\n",
              "      border-color: transparent;\n",
              "      border-right-color: var(--fill-color);\n",
              "    }\n",
              "    80% {\n",
              "      border-color: transparent;\n",
              "      border-right-color: var(--fill-color);\n",
              "      border-bottom-color: var(--fill-color);\n",
              "    }\n",
              "    90% {\n",
              "      border-color: transparent;\n",
              "      border-bottom-color: var(--fill-color);\n",
              "    }\n",
              "  }\n",
              "</style>\n",
              "\n",
              "      <script>\n",
              "        async function quickchart(key) {\n",
              "          const quickchartButtonEl =\n",
              "            document.querySelector('#' + key + ' button');\n",
              "          quickchartButtonEl.disabled = true;  // To prevent multiple clicks.\n",
              "          quickchartButtonEl.classList.add('colab-df-spinner');\n",
              "          try {\n",
              "            const charts = await google.colab.kernel.invokeFunction(\n",
              "                'suggestCharts', [key], {});\n",
              "          } catch (error) {\n",
              "            console.error('Error during call to suggestCharts:', error);\n",
              "          }\n",
              "          quickchartButtonEl.classList.remove('colab-df-spinner');\n",
              "          quickchartButtonEl.classList.add('colab-df-quickchart-complete');\n",
              "        }\n",
              "        (() => {\n",
              "          let quickchartButtonEl =\n",
              "            document.querySelector('#df-dbc88fc2-a8fa-4dfc-92c9-f9d26b1aaf31 button');\n",
              "          quickchartButtonEl.style.display =\n",
              "            google.colab.kernel.accessAllowed ? 'block' : 'none';\n",
              "        })();\n",
              "      </script>\n",
              "    </div>\n",
              "\n",
              "  <div id=\"id_9c6d52ef-4b73-4038-a0cc-b40e55a4cfc4\">\n",
              "    <style>\n",
              "      .colab-df-generate {\n",
              "        background-color: #E8F0FE;\n",
              "        border: none;\n",
              "        border-radius: 50%;\n",
              "        cursor: pointer;\n",
              "        display: none;\n",
              "        fill: #1967D2;\n",
              "        height: 32px;\n",
              "        padding: 0 0 0 0;\n",
              "        width: 32px;\n",
              "      }\n",
              "\n",
              "      .colab-df-generate:hover {\n",
              "        background-color: #E2EBFA;\n",
              "        box-shadow: 0px 1px 2px rgba(60, 64, 67, 0.3), 0px 1px 3px 1px rgba(60, 64, 67, 0.15);\n",
              "        fill: #174EA6;\n",
              "      }\n",
              "\n",
              "      [theme=dark] .colab-df-generate {\n",
              "        background-color: #3B4455;\n",
              "        fill: #D2E3FC;\n",
              "      }\n",
              "\n",
              "      [theme=dark] .colab-df-generate:hover {\n",
              "        background-color: #434B5C;\n",
              "        box-shadow: 0px 1px 3px 1px rgba(0, 0, 0, 0.15);\n",
              "        filter: drop-shadow(0px 1px 2px rgba(0, 0, 0, 0.3));\n",
              "        fill: #FFFFFF;\n",
              "      }\n",
              "    </style>\n",
              "    <button class=\"colab-df-generate\" onclick=\"generateWithVariable('retriever_comparison')\"\n",
              "            title=\"Generate code using this dataframe.\"\n",
              "            style=\"display:none;\">\n",
              "\n",
              "  <svg xmlns=\"http://www.w3.org/2000/svg\" height=\"24px\"viewBox=\"0 0 24 24\"\n",
              "       width=\"24px\">\n",
              "    <path d=\"M7,19H8.4L18.45,9,17,7.55,7,17.6ZM5,21V16.75L18.45,3.32a2,2,0,0,1,2.83,0l1.4,1.43a1.91,1.91,0,0,1,.58,1.4,1.91,1.91,0,0,1-.58,1.4L9.25,21ZM18.45,9,17,7.55Zm-12,3A5.31,5.31,0,0,0,4.9,8.1,5.31,5.31,0,0,0,1,6.5,5.31,5.31,0,0,0,4.9,4.9,5.31,5.31,0,0,0,6.5,1,5.31,5.31,0,0,0,8.1,4.9,5.31,5.31,0,0,0,12,6.5,5.46,5.46,0,0,0,6.5,12Z\"/>\n",
              "  </svg>\n",
              "    </button>\n",
              "    <script>\n",
              "      (() => {\n",
              "      const buttonEl =\n",
              "        document.querySelector('#id_9c6d52ef-4b73-4038-a0cc-b40e55a4cfc4 button.colab-df-generate');\n",
              "      buttonEl.style.display =\n",
              "        google.colab.kernel.accessAllowed ? 'block' : 'none';\n",
              "\n",
              "      buttonEl.onclick = () => {\n",
              "        google.colab.notebook.generateWithVariable('retriever_comparison');\n",
              "      }\n",
              "      })();\n",
              "    </script>\n",
              "  </div>\n",
              "\n",
              "    </div>\n",
              "  </div>\n"
            ],
            "application/vnd.google.colaboratory.intrinsic+json": {
              "type": "dataframe",
              "variable_name": "retriever_comparison",
              "summary": "{\n  \"name\": \"retriever_comparison\",\n  \"rows\": 8,\n  \"fields\": [\n    {\n      \"column\": \"Retriever Type\",\n      \"properties\": {\n        \"dtype\": \"string\",\n        \"num_unique_values\": 8,\n        \"samples\": [\n          \"MMR\",\n          \"Ensemble (BM25 + Vector)\",\n          \"Basic Vector\"\n        ],\n        \"semantic_type\": \"\",\n        \"description\": \"\"\n      }\n    },\n    {\n      \"column\": \"Documents Retrieved\",\n      \"properties\": {\n        \"dtype\": \"number\",\n        \"std\": 4,\n        \"min\": 2,\n        \"max\": 14,\n        \"num_unique_values\": 6,\n        \"samples\": [\n          4,\n          2,\n          14\n        ],\n        \"semantic_type\": \"\",\n        \"description\": \"\"\n      }\n    },\n    {\n      \"column\": \"Advantages\",\n      \"properties\": {\n        \"dtype\": \"string\",\n        \"num_unique_values\": 8,\n        \"samples\": [\n          \"Diverse results, reduces redundancy\",\n          \"Combines keyword and semantic search\",\n          \"Simple, fast\"\n        ],\n        \"semantic_type\": \"\",\n        \"description\": \"\"\n      }\n    },\n    {\n      \"column\": \"Limitations\",\n      \"properties\": {\n        \"dtype\": \"string\",\n        \"num_unique_values\": 8,\n        \"samples\": [\n          \"May miss some relevant documents\",\n          \"More complex implementation\",\n          \"Sensitive to query phrasing\"\n        ],\n        \"semantic_type\": \"\",\n        \"description\": \"\"\n      }\n    }\n  ]\n}"
            }
          },
          "metadata": {},
          "execution_count": 14
        }
      ],
      "source": [
        "import pandas as pd\n",
        "\n",
        "# Define our comparison metrics\n",
        "retriever_comparison = pd.DataFrame({\n",
        "    \"Retriever Type\": [\n",
        "        \"Basic Vector\",\n",
        "        \"MMR\",\n",
        "        \"Similarity Threshold\",\n",
        "        \"MultiQuery\",\n",
        "        \"Custom MultiQuery\",\n",
        "        \"Ensemble (BM25 + Vector)\",\n",
        "        \"Enhanced Ensemble\",\n",
        "        \"Reordered Custom MultiQuery\"\n",
        "    ],\n",
        "    \"Documents Retrieved\": [\n",
        "        len(basic_docs),\n",
        "        len(mmr_docs),\n",
        "        len(sst_docs),\n",
        "        len(multi_query_docs),\n",
        "        len(custom_multi_query_docs),\n",
        "        len(ensemble_docs),\n",
        "        len(enhanced_ensemble_docs),\n",
        "        len(retrieved_docs)\n",
        "    ],\n",
        "    \"Advantages\": [\n",
        "        \"Simple, fast\",\n",
        "        \"Diverse results, reduces redundancy\",\n",
        "        \"Filters low-quality matches\",\n",
        "        \"Improves query coverage\",\n",
        "        \"Domain-specific query expansion\",\n",
        "        \"Combines keyword and semantic search\",\n",
        "        \"Best of both worlds approach\",\n",
        "        \"Optimizes document ordering for LLMs\"\n",
        "    ],\n",
        "    \"Limitations\": [\n",
        "        \"Sensitive to query phrasing\",\n",
        "        \"May miss some relevant documents\",\n",
        "        \"Risk of excluding relevant documents\",\n",
        "        \"Computationally expensive\",\n",
        "        \"Quality depends on prompt design\",\n",
        "        \"More complex implementation\",\n",
        "        \"Highest complexity\",\n",
        "        \"Post-processing step only\"\n",
        "    ]\n",
        "})\n",
        "\n",
        "print(\"Retriever Comparison:\")\n",
        "retriever_comparison"
      ]
    },
    {
      "cell_type": "markdown",
      "source": [
        "Basic retriever: fewest docs, high precision if lucky, but misses much\n",
        "✅ MMR: more diverse, reduces duplication\n",
        "✅ SST: safe filtering, but sometimes too strict\n",
        "✅ MultiQuery: highest recall, but not domain-specific\n",
        "✅ Custom MultiQuery: better for domain terms (CyberArk API)\n",
        "✅ Ensemble: combines semantic & keyword, robust\n",
        "✅ Enhanced Ensemble (BM25 + Custom MQ): even better coverage\n",
        "✅ LongContextReorder: doesn't change which docs but improves order for final answer\n",
        "\n",
        " 2️⃣ Recommendations: Which should you pick?\n",
        "Based on your scenario (CyberArk API Docs RAG Chatbot):\n",
        "\n",
        "✔ Domain is structured (API paths, methods, etc.)\n",
        "✔ User queries are often poorly phrased (“delete policy” vs “DELETE /policy”)\n",
        "✔ High recall is critical (must not miss the right endpoint)\n",
        "✔ Also want precision to avoid irrelevant clutter\n",
        "\n",
        "Hence, you want:\n",
        "\n",
        "👉 Semantic retrieval (FAISS) to catch paraphrases\n",
        "👉 Keyword retrieval (BM25) for exact terms\n",
        "👉 Domain-aware query expansion\n",
        "👉 Reordering for prompt context optimization\n",
        "\n",
        "🔥 My recommended best setup for production:\n",
        "✅ Retriever = Enhanced Ensemble (BM25 + Custom MultiQuery Retriever)\n",
        "✅ Add LongContextReordering as a post-processing step\n",
        "\n",
        "✅ Why?\n",
        "\n",
        "Custom MultiQuery expands user question using domain knowledge.\n",
        "\n",
        "BM25 ensures any exact API path / method / keyword matches come through.\n",
        "\n",
        "Ensemble weights (e.g. 0.4 BM25, 0.6 Custom MQ) balance semantic and lexical retrieval.\n",
        "\n",
        "Reordering improves how the final context is fed to the LLM (most relevant first)."
      ],
      "metadata": {
        "id": "d-o0GptR4vRi"
      },
      "id": "d-o0GptR4vRi"
    },
    {
      "cell_type": "code",
      "source": [
        "enhanced_ensemble_retriever = EnsembleRetriever(\n",
        "    retrievers=[bm25_retriever, custom_multi_query_retriever],\n",
        "    weights=[0.4, 0.6]\n",
        ")\n",
        "\n",
        "reordering = LongContextReorder()\n",
        "reordered_docs = reordering.transform_documents(retrieved_docs)"
      ],
      "metadata": {
        "id": "kelFS-p24rQC",
        "outputId": "f2a62af0-b479-4750-e81f-c24efb487492",
        "colab": {
          "base_uri": "https://localhost:8080/"
        }
      },
      "id": "kelFS-p24rQC",
      "execution_count": null,
      "outputs": [
        {
          "metadata": {
            "tags": null
          },
          "name": "stdout",
          "output_type": "stream",
          "text": [
            "\n",
            "=== FINAL COMBINATION ===\n",
            "Question: How to dele a policy?\n"
          ]
        }
      ]
    }
  ],
  "metadata": {
    "accelerator": "GPU",
    "colab": {
      "gpuType": "T4",
      "provenance": []
    },
    "kernelspec": {
      "display_name": "Python 3",
      "name": "python3"
    },
    "language_info": {
      "codemirror_mode": {
        "name": "ipython",
        "version": 3
      },
      "file_extension": ".py",
      "mimetype": "text/x-python",
      "name": "python",
      "nbconvert_exporter": "python",
      "pygments_lexer": "ipython3",
      "version": "3.12.1"
    }
  },
  "nbformat": 4,
  "nbformat_minor": 5
}