{
 "cells": [
  {
   "cell_type": "code",
   "execution_count": 1,
   "id": "c250226d",
   "metadata": {},
   "outputs": [],
   "source": [
    "# Cell 1: Imports\n",
    "import os\n",
    "import glob\n",
    "from pathlib import Path\n",
    "from langchain_ollama import OllamaLLM"
   ]
  },
  {
   "cell_type": "code",
   "execution_count": 2,
   "id": "5d156d0f",
   "metadata": {},
   "outputs": [],
   "source": [
    "# Cell 2: Initialize LLM\n",
    "# Initialize the Ollama LLM\n",
    "llm = OllamaLLM(model=\"llama3.2:latest\", temperature=0.3)\n",
    "\n",
    "def call_llm(prompt, model=\"llama3.2:latest\"):\n",
    "    \"\"\"\n",
    "    Call the Ollama LLM with the enrichment prompt.\n",
    "    Returns the model's response as a string.\n",
    "    \"\"\"\n",
    "    # Call the LLM and get the response\n",
    "    response = llm.invoke(prompt)\n",
    "    return response"
   ]
  },
  {
   "cell_type": "code",
   "execution_count": 3,
   "id": "815e1244",
   "metadata": {},
   "outputs": [],
   "source": [
    "# Cell 3: Configuration\n",
    "# Directory to read files from\n",
    "input_dir = \"/workspaces/RAG_BOT/PIVIOT/sample\"\n",
    "\n",
    "# Directory to save enriched files\n",
    "output_dir = \"enriched_endpoints\"\n",
    "os.makedirs(output_dir, exist_ok=True)\n",
    "\n",
    "# Define a consistent enrichment prompt template\n",
    "enrichment_template = \"\"\"\n",
    "You are an expert API documentation assistant. \n",
    "Your task is to take the following raw endpoint documentation and rewrite it to make it more RAG-friendly.\n",
    "\n",
    "For this endpoint, produce:\n",
    "1. A clear, human-friendly summary\n",
    "2. List of key search terms\n",
    "3. 5–10 example questions a user might ask\n",
    "4. Important details or notes for developers\n",
    "5. The original formatted documentation (nicely preserved)\n",
    "\n",
    "---\n",
    "\n",
    "RAW DOCUMENTATION:\n",
    "\n",
    "{endpoint_text}\n",
    "\n",
    "---\n",
    "\n",
    "Output in a structured markdown format.\n",
    "\"\"\""
   ]
  },
  {
   "cell_type": "code",
   "execution_count": 4,
   "id": "2c792343",
   "metadata": {},
   "outputs": [
    {
     "name": "stdout",
     "output_type": "stream",
     "text": [
      "Found 1 files to process.\n"
     ]
    }
   ],
   "source": [
    "# Cell 4: Get input files\n",
    "# Get all text files from the input directory\n",
    "input_files = glob.glob(os.path.join(input_dir, \"*.txt\"))\n",
    "print(f\"Found {len(input_files)} files to process.\")"
   ]
  },
  {
   "cell_type": "code",
   "execution_count": 5,
   "id": "fdd840ae",
   "metadata": {},
   "outputs": [
    {
     "name": "stdout",
     "output_type": "stream",
     "text": [
      "Processing file 1/1: /workspaces/RAG_BOT/PIVIOT/sample/PolicyMangement.txt\n",
      "  - Found 9 endpoint sections in PolicyMangement.txt\n",
      "  - Processing endpoint 1/9...\n",
      "    Saved: PolicyMangement_endpoint_001.txt\n",
      "  - Processing endpoint 2/9...\n",
      "    Saved: PolicyMangement_endpoint_002.txt\n",
      "  - Processing endpoint 3/9...\n",
      "    Saved: PolicyMangement_endpoint_003.txt\n",
      "  - Processing endpoint 4/9...\n",
      "    Saved: PolicyMangement_endpoint_004.txt\n",
      "  - Processing endpoint 5/9...\n",
      "    Saved: PolicyMangement_endpoint_005.txt\n",
      "  - Processing endpoint 6/9...\n",
      "    Saved: PolicyMangement_endpoint_006.txt\n",
      "  - Processing endpoint 7/9...\n",
      "    Saved: PolicyMangement_endpoint_007.txt\n",
      "  - Processing endpoint 8/9...\n",
      "    Saved: PolicyMangement_endpoint_008.txt\n",
      "  - Processing endpoint 9/9...\n",
      "    Saved: PolicyMangement_endpoint_009.txt\n"
     ]
    }
   ],
   "source": [
    "# Cell 5: Process each file\n",
    "for file_idx, file_path in enumerate(input_files, 1):\n",
    "    print(f\"Processing file {file_idx}/{len(input_files)}: {file_path}\")\n",
    "    \n",
    "    # Read the file content\n",
    "    with open(file_path, \"r\", encoding=\"utf-8\") as f:\n",
    "        full_text = f.read()\n",
    "    \n",
    "    # Split on the known separator (adjust if it's different in your files)\n",
    "    endpoint_chunks = [chunk.strip() for chunk in full_text.split('--------------------------------------------------------------------------------') if chunk.strip()]\n",
    "    \n",
    "    print(f\"  - Found {len(endpoint_chunks)} endpoint sections in {os.path.basename(file_path)}\")\n",
    "    \n",
    "    # Process each endpoint chunk\n",
    "    for chunk_idx, endpoint_text in enumerate(endpoint_chunks, 1):\n",
    "        print(f\"  - Processing endpoint {chunk_idx}/{len(endpoint_chunks)}...\")\n",
    "        \n",
    "        # Prepare the prompt\n",
    "        prompt = enrichment_template.format(endpoint_text=endpoint_text)\n",
    "        \n",
    "        # Get the enriched version from the LLM\n",
    "        enriched_text = call_llm(prompt)\n",
    "        \n",
    "        # Define filename using both the source file name and chunk index\n",
    "        base_filename = Path(file_path).stem\n",
    "        filename = f\"{base_filename}_endpoint_{chunk_idx:03}.txt\"\n",
    "        \n",
    "        # Save enriched text\n",
    "        with open(os.path.join(output_dir, filename), \"w\", encoding=\"utf-8\") as out_file:\n",
    "            out_file.write(enriched_text)\n",
    "        \n",
    "        print(f\"    Saved: {filename}\")"
   ]
  },
  {
   "cell_type": "code",
   "execution_count": null,
   "id": "78a87e8d",
   "metadata": {},
   "outputs": [],
   "source": [
    "# Cell 6: Summary\n",
    "print(\"All files processed and saved.\")"
   ]
  }
 ],
 "metadata": {
  "kernelspec": {
   "display_name": "Python 3",
   "language": "python",
   "name": "python3"
  },
  "language_info": {
   "codemirror_mode": {
    "name": "ipython",
    "version": 3
   },
   "file_extension": ".py",
   "mimetype": "text/x-python",
   "name": "python",
   "nbconvert_exporter": "python",
   "pygments_lexer": "ipython3",
   "version": "3.12.1"
  }
 },
 "nbformat": 4,
 "nbformat_minor": 5
}
